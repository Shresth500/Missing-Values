{
 "cells": [
  {
   "cell_type": "code",
   "execution_count": 1,
   "metadata": {},
   "outputs": [],
   "source": [
    "import pandas as pd\n",
    "import numpy as np\n",
    "import matplotlib.pyplot as plt\n",
    "import seaborn as sns"
   ]
  },
  {
   "cell_type": "code",
   "execution_count": 2,
   "metadata": {},
   "outputs": [],
   "source": [
    "df=pd.read_csv('ChiSqare.csv')"
   ]
  },
  {
   "cell_type": "code",
   "execution_count": 3,
   "metadata": {
    "scrolled": false
   },
   "outputs": [
    {
     "data": {
      "text/html": [
       "<div>\n",
       "<style scoped>\n",
       "    .dataframe tbody tr th:only-of-type {\n",
       "        vertical-align: middle;\n",
       "    }\n",
       "\n",
       "    .dataframe tbody tr th {\n",
       "        vertical-align: top;\n",
       "    }\n",
       "\n",
       "    .dataframe thead th {\n",
       "        text-align: right;\n",
       "    }\n",
       "</style>\n",
       "<table border=\"1\" class=\"dataframe\">\n",
       "  <thead>\n",
       "    <tr style=\"text-align: right;\">\n",
       "      <th></th>\n",
       "      <th>ID</th>\n",
       "      <th>Gender</th>\n",
       "      <th>Classification</th>\n",
       "      <th>Height</th>\n",
       "      <th>Shoe Size</th>\n",
       "      <th>Phone Time</th>\n",
       "      <th># of Shoes</th>\n",
       "      <th>Birth order</th>\n",
       "      <th>Pets</th>\n",
       "      <th>Happy</th>\n",
       "      <th>...</th>\n",
       "      <th>Exercise</th>\n",
       "      <th>Stat Pre</th>\n",
       "      <th>Stat Post</th>\n",
       "      <th>Phone Type</th>\n",
       "      <th>Sleep</th>\n",
       "      <th>Social Media</th>\n",
       "      <th>Impact of SocNetworking</th>\n",
       "      <th>Political</th>\n",
       "      <th>Animal</th>\n",
       "      <th>Superhero</th>\n",
       "    </tr>\n",
       "  </thead>\n",
       "  <tbody>\n",
       "    <tr>\n",
       "      <th>0</th>\n",
       "      <td>1</td>\n",
       "      <td>male</td>\n",
       "      <td>senior</td>\n",
       "      <td>67.75</td>\n",
       "      <td>7.0</td>\n",
       "      <td>12.0</td>\n",
       "      <td>12.0</td>\n",
       "      <td>youngest</td>\n",
       "      <td>5.0</td>\n",
       "      <td>0.80</td>\n",
       "      <td>...</td>\n",
       "      <td>360</td>\n",
       "      <td>3.0</td>\n",
       "      <td>NaN</td>\n",
       "      <td>iPhone</td>\n",
       "      <td>7.0</td>\n",
       "      <td>180.0</td>\n",
       "      <td>worse</td>\n",
       "      <td>Democrat</td>\n",
       "      <td>Dog person</td>\n",
       "      <td>Batman</td>\n",
       "    </tr>\n",
       "    <tr>\n",
       "      <th>1</th>\n",
       "      <td>2</td>\n",
       "      <td>male</td>\n",
       "      <td>freshman</td>\n",
       "      <td>71.00</td>\n",
       "      <td>7.5</td>\n",
       "      <td>1.5</td>\n",
       "      <td>5.0</td>\n",
       "      <td>middle</td>\n",
       "      <td>4.0</td>\n",
       "      <td>0.75</td>\n",
       "      <td>...</td>\n",
       "      <td>200</td>\n",
       "      <td>9.0</td>\n",
       "      <td>NaN</td>\n",
       "      <td>Android smartphone</td>\n",
       "      <td>7.0</td>\n",
       "      <td>20.0</td>\n",
       "      <td>better</td>\n",
       "      <td>Democrat</td>\n",
       "      <td>Dog person</td>\n",
       "      <td>Batman</td>\n",
       "    </tr>\n",
       "    <tr>\n",
       "      <th>2</th>\n",
       "      <td>3</td>\n",
       "      <td>female</td>\n",
       "      <td>freshman</td>\n",
       "      <td>64.00</td>\n",
       "      <td>6.0</td>\n",
       "      <td>25.0</td>\n",
       "      <td>15.0</td>\n",
       "      <td>oldest</td>\n",
       "      <td>8.0</td>\n",
       "      <td>0.90</td>\n",
       "      <td>...</td>\n",
       "      <td>30</td>\n",
       "      <td>7.0</td>\n",
       "      <td>5.0</td>\n",
       "      <td>Android smartphone</td>\n",
       "      <td>8.0</td>\n",
       "      <td>60.0</td>\n",
       "      <td>better</td>\n",
       "      <td>Republican</td>\n",
       "      <td>Dog person</td>\n",
       "      <td>Batman</td>\n",
       "    </tr>\n",
       "    <tr>\n",
       "      <th>3</th>\n",
       "      <td>4</td>\n",
       "      <td>female</td>\n",
       "      <td>freshman</td>\n",
       "      <td>63.00</td>\n",
       "      <td>6.5</td>\n",
       "      <td>30.0</td>\n",
       "      <td>30.0</td>\n",
       "      <td>middle</td>\n",
       "      <td>12.0</td>\n",
       "      <td>0.98</td>\n",
       "      <td>...</td>\n",
       "      <td>180</td>\n",
       "      <td>6.0</td>\n",
       "      <td>7.0</td>\n",
       "      <td>iPhone</td>\n",
       "      <td>6.0</td>\n",
       "      <td>60.0</td>\n",
       "      <td>better</td>\n",
       "      <td>Republican</td>\n",
       "      <td>Both</td>\n",
       "      <td>Superman</td>\n",
       "    </tr>\n",
       "    <tr>\n",
       "      <th>4</th>\n",
       "      <td>5</td>\n",
       "      <td>male</td>\n",
       "      <td>senior</td>\n",
       "      <td>69.00</td>\n",
       "      <td>6.5</td>\n",
       "      <td>23.0</td>\n",
       "      <td>8.0</td>\n",
       "      <td>oldest</td>\n",
       "      <td>4.0</td>\n",
       "      <td>0.75</td>\n",
       "      <td>...</td>\n",
       "      <td>180</td>\n",
       "      <td>4.0</td>\n",
       "      <td>7.0</td>\n",
       "      <td>iPhone</td>\n",
       "      <td>5.5</td>\n",
       "      <td>60.0</td>\n",
       "      <td>worse</td>\n",
       "      <td>Independent</td>\n",
       "      <td>Dog person</td>\n",
       "      <td>Superman</td>\n",
       "    </tr>\n",
       "  </tbody>\n",
       "</table>\n",
       "<p>5 rows × 23 columns</p>\n",
       "</div>"
      ],
      "text/plain": [
       "   ID  Gender Classification  Height  Shoe Size  Phone Time  # of Shoes  \\\n",
       "0   1    male         senior   67.75        7.0        12.0        12.0   \n",
       "1   2    male       freshman   71.00        7.5         1.5         5.0   \n",
       "2   3  female       freshman   64.00        6.0        25.0        15.0   \n",
       "3   4  female       freshman   63.00        6.5        30.0        30.0   \n",
       "4   5    male         senior   69.00        6.5        23.0         8.0   \n",
       "\n",
       "  Birth order  Pets  Happy  ...  Exercise Stat Pre  Stat Post  \\\n",
       "0    youngest   5.0   0.80  ...       360      3.0        NaN   \n",
       "1      middle   4.0   0.75  ...       200      9.0        NaN   \n",
       "2      oldest   8.0   0.90  ...        30      7.0        5.0   \n",
       "3      middle  12.0   0.98  ...       180      6.0        7.0   \n",
       "4      oldest   4.0   0.75  ...       180      4.0        7.0   \n",
       "\n",
       "           Phone Type  Sleep  Social Media Impact of SocNetworking  \\\n",
       "0              iPhone    7.0         180.0                   worse   \n",
       "1  Android smartphone    7.0          20.0                  better   \n",
       "2  Android smartphone    8.0          60.0                  better   \n",
       "3              iPhone    6.0          60.0                  better   \n",
       "4              iPhone    5.5          60.0                   worse   \n",
       "\n",
       "     Political      Animal Superhero  \n",
       "0     Democrat  Dog person    Batman  \n",
       "1     Democrat  Dog person    Batman  \n",
       "2   Republican  Dog person    Batman  \n",
       "3   Republican        Both  Superman  \n",
       "4  Independent  Dog person  Superman  \n",
       "\n",
       "[5 rows x 23 columns]"
      ]
     },
     "execution_count": 3,
     "metadata": {},
     "output_type": "execute_result"
    }
   ],
   "source": [
    "df.head()"
   ]
  },
  {
   "cell_type": "code",
   "execution_count": 4,
   "metadata": {
    "scrolled": true
   },
   "outputs": [
    {
     "data": {
      "text/html": [
       "<div>\n",
       "<style scoped>\n",
       "    .dataframe tbody tr th:only-of-type {\n",
       "        vertical-align: middle;\n",
       "    }\n",
       "\n",
       "    .dataframe tbody tr th {\n",
       "        vertical-align: top;\n",
       "    }\n",
       "\n",
       "    .dataframe thead th {\n",
       "        text-align: right;\n",
       "    }\n",
       "</style>\n",
       "<table border=\"1\" class=\"dataframe\">\n",
       "  <thead>\n",
       "    <tr style=\"text-align: right;\">\n",
       "      <th></th>\n",
       "      <th>ID</th>\n",
       "      <th>Height</th>\n",
       "      <th>Shoe Size</th>\n",
       "      <th>Phone Time</th>\n",
       "      <th># of Shoes</th>\n",
       "      <th>Pets</th>\n",
       "      <th>Happy</th>\n",
       "      <th>Funny</th>\n",
       "      <th>Bfast Calories</th>\n",
       "      <th>Exercise</th>\n",
       "      <th>Stat Pre</th>\n",
       "      <th>Stat Post</th>\n",
       "      <th>Sleep</th>\n",
       "      <th>Social Media</th>\n",
       "    </tr>\n",
       "  </thead>\n",
       "  <tbody>\n",
       "    <tr>\n",
       "      <th>count</th>\n",
       "      <td>76.000000</td>\n",
       "      <td>76.000000</td>\n",
       "      <td>76.000000</td>\n",
       "      <td>75.000000</td>\n",
       "      <td>75.000000</td>\n",
       "      <td>75.000000</td>\n",
       "      <td>74.000000</td>\n",
       "      <td>73.000000</td>\n",
       "      <td>74.000000</td>\n",
       "      <td>76.000000</td>\n",
       "      <td>75.000000</td>\n",
       "      <td>70.000000</td>\n",
       "      <td>75.000000</td>\n",
       "      <td>75.000000</td>\n",
       "    </tr>\n",
       "    <tr>\n",
       "      <th>mean</th>\n",
       "      <td>38.500000</td>\n",
       "      <td>65.430921</td>\n",
       "      <td>6.953947</td>\n",
       "      <td>17.426667</td>\n",
       "      <td>17.440000</td>\n",
       "      <td>5.773333</td>\n",
       "      <td>0.832000</td>\n",
       "      <td>6.972603</td>\n",
       "      <td>296.175676</td>\n",
       "      <td>168.315789</td>\n",
       "      <td>5.560000</td>\n",
       "      <td>6.928571</td>\n",
       "      <td>6.873333</td>\n",
       "      <td>98.826667</td>\n",
       "    </tr>\n",
       "    <tr>\n",
       "      <th>std</th>\n",
       "      <td>22.083176</td>\n",
       "      <td>3.477451</td>\n",
       "      <td>0.909863</td>\n",
       "      <td>13.450533</td>\n",
       "      <td>14.776021</td>\n",
       "      <td>7.351362</td>\n",
       "      <td>0.105825</td>\n",
       "      <td>1.536343</td>\n",
       "      <td>240.089787</td>\n",
       "      <td>153.694781</td>\n",
       "      <td>1.974431</td>\n",
       "      <td>1.365426</td>\n",
       "      <td>1.538017</td>\n",
       "      <td>96.043117</td>\n",
       "    </tr>\n",
       "    <tr>\n",
       "      <th>min</th>\n",
       "      <td>1.000000</td>\n",
       "      <td>59.000000</td>\n",
       "      <td>5.000000</td>\n",
       "      <td>1.000000</td>\n",
       "      <td>4.000000</td>\n",
       "      <td>0.000000</td>\n",
       "      <td>0.500000</td>\n",
       "      <td>3.000000</td>\n",
       "      <td>0.000000</td>\n",
       "      <td>0.000000</td>\n",
       "      <td>1.000000</td>\n",
       "      <td>4.000000</td>\n",
       "      <td>4.000000</td>\n",
       "      <td>0.000000</td>\n",
       "    </tr>\n",
       "    <tr>\n",
       "      <th>25%</th>\n",
       "      <td>19.750000</td>\n",
       "      <td>63.000000</td>\n",
       "      <td>6.500000</td>\n",
       "      <td>6.000000</td>\n",
       "      <td>8.000000</td>\n",
       "      <td>2.000000</td>\n",
       "      <td>0.762500</td>\n",
       "      <td>6.000000</td>\n",
       "      <td>150.000000</td>\n",
       "      <td>63.750000</td>\n",
       "      <td>4.000000</td>\n",
       "      <td>6.000000</td>\n",
       "      <td>6.000000</td>\n",
       "      <td>37.500000</td>\n",
       "    </tr>\n",
       "    <tr>\n",
       "      <th>50%</th>\n",
       "      <td>38.500000</td>\n",
       "      <td>65.000000</td>\n",
       "      <td>7.000000</td>\n",
       "      <td>15.000000</td>\n",
       "      <td>15.000000</td>\n",
       "      <td>4.000000</td>\n",
       "      <td>0.850000</td>\n",
       "      <td>7.000000</td>\n",
       "      <td>250.000000</td>\n",
       "      <td>142.500000</td>\n",
       "      <td>6.000000</td>\n",
       "      <td>7.000000</td>\n",
       "      <td>7.000000</td>\n",
       "      <td>60.000000</td>\n",
       "    </tr>\n",
       "    <tr>\n",
       "      <th>75%</th>\n",
       "      <td>57.250000</td>\n",
       "      <td>67.187500</td>\n",
       "      <td>7.500000</td>\n",
       "      <td>23.000000</td>\n",
       "      <td>20.000000</td>\n",
       "      <td>7.000000</td>\n",
       "      <td>0.900000</td>\n",
       "      <td>8.000000</td>\n",
       "      <td>400.000000</td>\n",
       "      <td>240.000000</td>\n",
       "      <td>7.000000</td>\n",
       "      <td>8.000000</td>\n",
       "      <td>7.750000</td>\n",
       "      <td>120.000000</td>\n",
       "    </tr>\n",
       "    <tr>\n",
       "      <th>max</th>\n",
       "      <td>76.000000</td>\n",
       "      <td>76.000000</td>\n",
       "      <td>9.500000</td>\n",
       "      <td>60.000000</td>\n",
       "      <td>100.000000</td>\n",
       "      <td>54.000000</td>\n",
       "      <td>1.000000</td>\n",
       "      <td>11.000000</td>\n",
       "      <td>1200.000000</td>\n",
       "      <td>840.000000</td>\n",
       "      <td>10.000000</td>\n",
       "      <td>10.000000</td>\n",
       "      <td>12.000000</td>\n",
       "      <td>600.000000</td>\n",
       "    </tr>\n",
       "  </tbody>\n",
       "</table>\n",
       "</div>"
      ],
      "text/plain": [
       "              ID     Height  Shoe Size  Phone Time  # of Shoes       Pets  \\\n",
       "count  76.000000  76.000000  76.000000   75.000000   75.000000  75.000000   \n",
       "mean   38.500000  65.430921   6.953947   17.426667   17.440000   5.773333   \n",
       "std    22.083176   3.477451   0.909863   13.450533   14.776021   7.351362   \n",
       "min     1.000000  59.000000   5.000000    1.000000    4.000000   0.000000   \n",
       "25%    19.750000  63.000000   6.500000    6.000000    8.000000   2.000000   \n",
       "50%    38.500000  65.000000   7.000000   15.000000   15.000000   4.000000   \n",
       "75%    57.250000  67.187500   7.500000   23.000000   20.000000   7.000000   \n",
       "max    76.000000  76.000000   9.500000   60.000000  100.000000  54.000000   \n",
       "\n",
       "           Happy      Funny  Bfast Calories    Exercise   Stat Pre  Stat Post  \\\n",
       "count  74.000000  73.000000       74.000000   76.000000  75.000000  70.000000   \n",
       "mean    0.832000   6.972603      296.175676  168.315789   5.560000   6.928571   \n",
       "std     0.105825   1.536343      240.089787  153.694781   1.974431   1.365426   \n",
       "min     0.500000   3.000000        0.000000    0.000000   1.000000   4.000000   \n",
       "25%     0.762500   6.000000      150.000000   63.750000   4.000000   6.000000   \n",
       "50%     0.850000   7.000000      250.000000  142.500000   6.000000   7.000000   \n",
       "75%     0.900000   8.000000      400.000000  240.000000   7.000000   8.000000   \n",
       "max     1.000000  11.000000     1200.000000  840.000000  10.000000  10.000000   \n",
       "\n",
       "           Sleep  Social Media  \n",
       "count  75.000000     75.000000  \n",
       "mean    6.873333     98.826667  \n",
       "std     1.538017     96.043117  \n",
       "min     4.000000      0.000000  \n",
       "25%     6.000000     37.500000  \n",
       "50%     7.000000     60.000000  \n",
       "75%     7.750000    120.000000  \n",
       "max    12.000000    600.000000  "
      ]
     },
     "execution_count": 4,
     "metadata": {},
     "output_type": "execute_result"
    }
   ],
   "source": [
    "df.describe()"
   ]
  },
  {
   "cell_type": "code",
   "execution_count": 5,
   "metadata": {},
   "outputs": [
    {
     "data": {
      "text/plain": [
       "Index(['ID', 'Gender', 'Classification', 'Height', 'Shoe Size', 'Phone Time',\n",
       "       '# of Shoes', 'Birth order', 'Pets', 'Happy', 'Funny', 'College',\n",
       "       'Bfast Calories', 'Exercise', 'Stat Pre', 'Stat Post', 'Phone Type',\n",
       "       'Sleep', 'Social Media', 'Impact of SocNetworking', 'Political',\n",
       "       'Animal', 'Superhero'],\n",
       "      dtype='object')"
      ]
     },
     "execution_count": 5,
     "metadata": {},
     "output_type": "execute_result"
    }
   ],
   "source": [
    "df.columns"
   ]
  },
  {
   "cell_type": "code",
   "execution_count": 6,
   "metadata": {},
   "outputs": [
    {
     "data": {
      "text/plain": [
       "ID                         0\n",
       "Gender                     0\n",
       "Classification             0\n",
       "Height                     0\n",
       "Shoe Size                  0\n",
       "Phone Time                 1\n",
       "# of Shoes                 1\n",
       "Birth order                0\n",
       "Pets                       1\n",
       "Happy                      2\n",
       "Funny                      3\n",
       "College                    0\n",
       "Bfast Calories             2\n",
       "Exercise                   0\n",
       "Stat Pre                   1\n",
       "Stat Post                  6\n",
       "Phone Type                 0\n",
       "Sleep                      1\n",
       "Social Media               1\n",
       "Impact of SocNetworking    0\n",
       "Political                  0\n",
       "Animal                     0\n",
       "Superhero                  0\n",
       "dtype: int64"
      ]
     },
     "execution_count": 6,
     "metadata": {},
     "output_type": "execute_result"
    }
   ],
   "source": [
    "df.isna().sum()"
   ]
  },
  {
   "cell_type": "code",
   "execution_count": 7,
   "metadata": {},
   "outputs": [
    {
     "data": {
      "text/plain": [
       "0    12.0\n",
       "1     1.5\n",
       "2    25.0\n",
       "3    30.0\n",
       "4    23.0\n",
       "Name: Phone Time, dtype: float64"
      ]
     },
     "execution_count": 7,
     "metadata": {},
     "output_type": "execute_result"
    }
   ],
   "source": [
    "df['Phone Time'].head()"
   ]
  },
  {
   "cell_type": "code",
   "execution_count": 8,
   "metadata": {},
   "outputs": [
    {
     "data": {
      "text/html": [
       "<div>\n",
       "<style scoped>\n",
       "    .dataframe tbody tr th:only-of-type {\n",
       "        vertical-align: middle;\n",
       "    }\n",
       "\n",
       "    .dataframe tbody tr th {\n",
       "        vertical-align: top;\n",
       "    }\n",
       "\n",
       "    .dataframe thead th {\n",
       "        text-align: right;\n",
       "    }\n",
       "</style>\n",
       "<table border=\"1\" class=\"dataframe\">\n",
       "  <thead>\n",
       "    <tr style=\"text-align: right;\">\n",
       "      <th></th>\n",
       "      <th>ID</th>\n",
       "      <th>Height</th>\n",
       "      <th>Shoe Size</th>\n",
       "      <th>Phone Time</th>\n",
       "      <th># of Shoes</th>\n",
       "      <th>Pets</th>\n",
       "      <th>Happy</th>\n",
       "      <th>Funny</th>\n",
       "      <th>Bfast Calories</th>\n",
       "      <th>Exercise</th>\n",
       "      <th>Stat Pre</th>\n",
       "      <th>Stat Post</th>\n",
       "      <th>Sleep</th>\n",
       "      <th>Social Media</th>\n",
       "    </tr>\n",
       "  </thead>\n",
       "  <tbody>\n",
       "    <tr>\n",
       "      <th>ID</th>\n",
       "      <td>1.000000</td>\n",
       "      <td>0.152509</td>\n",
       "      <td>0.101695</td>\n",
       "      <td>-0.157023</td>\n",
       "      <td>-0.060479</td>\n",
       "      <td>-0.138075</td>\n",
       "      <td>-0.295587</td>\n",
       "      <td>0.027110</td>\n",
       "      <td>0.106372</td>\n",
       "      <td>0.045365</td>\n",
       "      <td>-0.000346</td>\n",
       "      <td>0.014269</td>\n",
       "      <td>-0.104837</td>\n",
       "      <td>0.082257</td>\n",
       "    </tr>\n",
       "    <tr>\n",
       "      <th>Height</th>\n",
       "      <td>0.152509</td>\n",
       "      <td>1.000000</td>\n",
       "      <td>0.263414</td>\n",
       "      <td>-0.162500</td>\n",
       "      <td>-0.324401</td>\n",
       "      <td>0.044851</td>\n",
       "      <td>-0.178178</td>\n",
       "      <td>0.037876</td>\n",
       "      <td>-0.011904</td>\n",
       "      <td>0.117367</td>\n",
       "      <td>0.155753</td>\n",
       "      <td>0.103341</td>\n",
       "      <td>-0.118448</td>\n",
       "      <td>-0.157543</td>\n",
       "    </tr>\n",
       "    <tr>\n",
       "      <th>Shoe Size</th>\n",
       "      <td>0.101695</td>\n",
       "      <td>0.263414</td>\n",
       "      <td>1.000000</td>\n",
       "      <td>-0.129161</td>\n",
       "      <td>-0.086816</td>\n",
       "      <td>0.169612</td>\n",
       "      <td>-0.066222</td>\n",
       "      <td>-0.030016</td>\n",
       "      <td>0.092773</td>\n",
       "      <td>0.115284</td>\n",
       "      <td>0.204034</td>\n",
       "      <td>0.109641</td>\n",
       "      <td>-0.092772</td>\n",
       "      <td>0.088741</td>\n",
       "    </tr>\n",
       "    <tr>\n",
       "      <th>Phone Time</th>\n",
       "      <td>-0.157023</td>\n",
       "      <td>-0.162500</td>\n",
       "      <td>-0.129161</td>\n",
       "      <td>1.000000</td>\n",
       "      <td>0.170078</td>\n",
       "      <td>0.195826</td>\n",
       "      <td>0.214267</td>\n",
       "      <td>0.003753</td>\n",
       "      <td>0.285481</td>\n",
       "      <td>-0.066311</td>\n",
       "      <td>-0.119009</td>\n",
       "      <td>-0.124600</td>\n",
       "      <td>-0.044894</td>\n",
       "      <td>-0.033197</td>\n",
       "    </tr>\n",
       "    <tr>\n",
       "      <th># of Shoes</th>\n",
       "      <td>-0.060479</td>\n",
       "      <td>-0.324401</td>\n",
       "      <td>-0.086816</td>\n",
       "      <td>0.170078</td>\n",
       "      <td>1.000000</td>\n",
       "      <td>0.058074</td>\n",
       "      <td>0.292269</td>\n",
       "      <td>-0.007401</td>\n",
       "      <td>-0.115922</td>\n",
       "      <td>-0.089167</td>\n",
       "      <td>-0.018750</td>\n",
       "      <td>-0.000010</td>\n",
       "      <td>0.065082</td>\n",
       "      <td>-0.001655</td>\n",
       "    </tr>\n",
       "    <tr>\n",
       "      <th>Pets</th>\n",
       "      <td>-0.138075</td>\n",
       "      <td>0.044851</td>\n",
       "      <td>0.169612</td>\n",
       "      <td>0.195826</td>\n",
       "      <td>0.058074</td>\n",
       "      <td>1.000000</td>\n",
       "      <td>-0.233233</td>\n",
       "      <td>-0.141253</td>\n",
       "      <td>-0.056942</td>\n",
       "      <td>0.033634</td>\n",
       "      <td>-0.037517</td>\n",
       "      <td>-0.107105</td>\n",
       "      <td>0.090945</td>\n",
       "      <td>0.101728</td>\n",
       "    </tr>\n",
       "    <tr>\n",
       "      <th>Happy</th>\n",
       "      <td>-0.295587</td>\n",
       "      <td>-0.178178</td>\n",
       "      <td>-0.066222</td>\n",
       "      <td>0.214267</td>\n",
       "      <td>0.292269</td>\n",
       "      <td>-0.233233</td>\n",
       "      <td>1.000000</td>\n",
       "      <td>0.225185</td>\n",
       "      <td>-0.027265</td>\n",
       "      <td>-0.149161</td>\n",
       "      <td>0.054714</td>\n",
       "      <td>-0.016786</td>\n",
       "      <td>0.049339</td>\n",
       "      <td>-0.129074</td>\n",
       "    </tr>\n",
       "    <tr>\n",
       "      <th>Funny</th>\n",
       "      <td>0.027110</td>\n",
       "      <td>0.037876</td>\n",
       "      <td>-0.030016</td>\n",
       "      <td>0.003753</td>\n",
       "      <td>-0.007401</td>\n",
       "      <td>-0.141253</td>\n",
       "      <td>0.225185</td>\n",
       "      <td>1.000000</td>\n",
       "      <td>-0.061412</td>\n",
       "      <td>-0.193814</td>\n",
       "      <td>-0.092440</td>\n",
       "      <td>0.074858</td>\n",
       "      <td>-0.059888</td>\n",
       "      <td>-0.016552</td>\n",
       "    </tr>\n",
       "    <tr>\n",
       "      <th>Bfast Calories</th>\n",
       "      <td>0.106372</td>\n",
       "      <td>-0.011904</td>\n",
       "      <td>0.092773</td>\n",
       "      <td>0.285481</td>\n",
       "      <td>-0.115922</td>\n",
       "      <td>-0.056942</td>\n",
       "      <td>-0.027265</td>\n",
       "      <td>-0.061412</td>\n",
       "      <td>1.000000</td>\n",
       "      <td>0.089094</td>\n",
       "      <td>-0.080335</td>\n",
       "      <td>-0.180174</td>\n",
       "      <td>-0.118936</td>\n",
       "      <td>0.115375</td>\n",
       "    </tr>\n",
       "    <tr>\n",
       "      <th>Exercise</th>\n",
       "      <td>0.045365</td>\n",
       "      <td>0.117367</td>\n",
       "      <td>0.115284</td>\n",
       "      <td>-0.066311</td>\n",
       "      <td>-0.089167</td>\n",
       "      <td>0.033634</td>\n",
       "      <td>-0.149161</td>\n",
       "      <td>-0.193814</td>\n",
       "      <td>0.089094</td>\n",
       "      <td>1.000000</td>\n",
       "      <td>0.113211</td>\n",
       "      <td>-0.134081</td>\n",
       "      <td>-0.208887</td>\n",
       "      <td>-0.098282</td>\n",
       "    </tr>\n",
       "    <tr>\n",
       "      <th>Stat Pre</th>\n",
       "      <td>-0.000346</td>\n",
       "      <td>0.155753</td>\n",
       "      <td>0.204034</td>\n",
       "      <td>-0.119009</td>\n",
       "      <td>-0.018750</td>\n",
       "      <td>-0.037517</td>\n",
       "      <td>0.054714</td>\n",
       "      <td>-0.092440</td>\n",
       "      <td>-0.080335</td>\n",
       "      <td>0.113211</td>\n",
       "      <td>1.000000</td>\n",
       "      <td>-0.243699</td>\n",
       "      <td>0.266156</td>\n",
       "      <td>-0.023634</td>\n",
       "    </tr>\n",
       "    <tr>\n",
       "      <th>Stat Post</th>\n",
       "      <td>0.014269</td>\n",
       "      <td>0.103341</td>\n",
       "      <td>0.109641</td>\n",
       "      <td>-0.124600</td>\n",
       "      <td>-0.000010</td>\n",
       "      <td>-0.107105</td>\n",
       "      <td>-0.016786</td>\n",
       "      <td>0.074858</td>\n",
       "      <td>-0.180174</td>\n",
       "      <td>-0.134081</td>\n",
       "      <td>-0.243699</td>\n",
       "      <td>1.000000</td>\n",
       "      <td>-0.133499</td>\n",
       "      <td>0.018300</td>\n",
       "    </tr>\n",
       "    <tr>\n",
       "      <th>Sleep</th>\n",
       "      <td>-0.104837</td>\n",
       "      <td>-0.118448</td>\n",
       "      <td>-0.092772</td>\n",
       "      <td>-0.044894</td>\n",
       "      <td>0.065082</td>\n",
       "      <td>0.090945</td>\n",
       "      <td>0.049339</td>\n",
       "      <td>-0.059888</td>\n",
       "      <td>-0.118936</td>\n",
       "      <td>-0.208887</td>\n",
       "      <td>0.266156</td>\n",
       "      <td>-0.133499</td>\n",
       "      <td>1.000000</td>\n",
       "      <td>-0.186750</td>\n",
       "    </tr>\n",
       "    <tr>\n",
       "      <th>Social Media</th>\n",
       "      <td>0.082257</td>\n",
       "      <td>-0.157543</td>\n",
       "      <td>0.088741</td>\n",
       "      <td>-0.033197</td>\n",
       "      <td>-0.001655</td>\n",
       "      <td>0.101728</td>\n",
       "      <td>-0.129074</td>\n",
       "      <td>-0.016552</td>\n",
       "      <td>0.115375</td>\n",
       "      <td>-0.098282</td>\n",
       "      <td>-0.023634</td>\n",
       "      <td>0.018300</td>\n",
       "      <td>-0.186750</td>\n",
       "      <td>1.000000</td>\n",
       "    </tr>\n",
       "  </tbody>\n",
       "</table>\n",
       "</div>"
      ],
      "text/plain": [
       "                      ID    Height  Shoe Size  Phone Time  # of Shoes  \\\n",
       "ID              1.000000  0.152509   0.101695   -0.157023   -0.060479   \n",
       "Height          0.152509  1.000000   0.263414   -0.162500   -0.324401   \n",
       "Shoe Size       0.101695  0.263414   1.000000   -0.129161   -0.086816   \n",
       "Phone Time     -0.157023 -0.162500  -0.129161    1.000000    0.170078   \n",
       "# of Shoes     -0.060479 -0.324401  -0.086816    0.170078    1.000000   \n",
       "Pets           -0.138075  0.044851   0.169612    0.195826    0.058074   \n",
       "Happy          -0.295587 -0.178178  -0.066222    0.214267    0.292269   \n",
       "Funny           0.027110  0.037876  -0.030016    0.003753   -0.007401   \n",
       "Bfast Calories  0.106372 -0.011904   0.092773    0.285481   -0.115922   \n",
       "Exercise        0.045365  0.117367   0.115284   -0.066311   -0.089167   \n",
       "Stat Pre       -0.000346  0.155753   0.204034   -0.119009   -0.018750   \n",
       "Stat Post       0.014269  0.103341   0.109641   -0.124600   -0.000010   \n",
       "Sleep          -0.104837 -0.118448  -0.092772   -0.044894    0.065082   \n",
       "Social Media    0.082257 -0.157543   0.088741   -0.033197   -0.001655   \n",
       "\n",
       "                    Pets     Happy     Funny  Bfast Calories  Exercise  \\\n",
       "ID             -0.138075 -0.295587  0.027110        0.106372  0.045365   \n",
       "Height          0.044851 -0.178178  0.037876       -0.011904  0.117367   \n",
       "Shoe Size       0.169612 -0.066222 -0.030016        0.092773  0.115284   \n",
       "Phone Time      0.195826  0.214267  0.003753        0.285481 -0.066311   \n",
       "# of Shoes      0.058074  0.292269 -0.007401       -0.115922 -0.089167   \n",
       "Pets            1.000000 -0.233233 -0.141253       -0.056942  0.033634   \n",
       "Happy          -0.233233  1.000000  0.225185       -0.027265 -0.149161   \n",
       "Funny          -0.141253  0.225185  1.000000       -0.061412 -0.193814   \n",
       "Bfast Calories -0.056942 -0.027265 -0.061412        1.000000  0.089094   \n",
       "Exercise        0.033634 -0.149161 -0.193814        0.089094  1.000000   \n",
       "Stat Pre       -0.037517  0.054714 -0.092440       -0.080335  0.113211   \n",
       "Stat Post      -0.107105 -0.016786  0.074858       -0.180174 -0.134081   \n",
       "Sleep           0.090945  0.049339 -0.059888       -0.118936 -0.208887   \n",
       "Social Media    0.101728 -0.129074 -0.016552        0.115375 -0.098282   \n",
       "\n",
       "                Stat Pre  Stat Post     Sleep  Social Media  \n",
       "ID             -0.000346   0.014269 -0.104837      0.082257  \n",
       "Height          0.155753   0.103341 -0.118448     -0.157543  \n",
       "Shoe Size       0.204034   0.109641 -0.092772      0.088741  \n",
       "Phone Time     -0.119009  -0.124600 -0.044894     -0.033197  \n",
       "# of Shoes     -0.018750  -0.000010  0.065082     -0.001655  \n",
       "Pets           -0.037517  -0.107105  0.090945      0.101728  \n",
       "Happy           0.054714  -0.016786  0.049339     -0.129074  \n",
       "Funny          -0.092440   0.074858 -0.059888     -0.016552  \n",
       "Bfast Calories -0.080335  -0.180174 -0.118936      0.115375  \n",
       "Exercise        0.113211  -0.134081 -0.208887     -0.098282  \n",
       "Stat Pre        1.000000  -0.243699  0.266156     -0.023634  \n",
       "Stat Post      -0.243699   1.000000 -0.133499      0.018300  \n",
       "Sleep           0.266156  -0.133499  1.000000     -0.186750  \n",
       "Social Media   -0.023634   0.018300 -0.186750      1.000000  "
      ]
     },
     "execution_count": 8,
     "metadata": {},
     "output_type": "execute_result"
    }
   ],
   "source": [
    "df.corr()"
   ]
  },
  {
   "cell_type": "code",
   "execution_count": 9,
   "metadata": {},
   "outputs": [
    {
     "data": {
      "text/plain": [
       "<AxesSubplot:>"
      ]
     },
     "execution_count": 9,
     "metadata": {},
     "output_type": "execute_result"
    },
    {
     "data": {
      "image/png": "[encoded data removed]",
      "text/plain": [
       "<Figure size 432x288 with 2 Axes>"
      ]
     },
     "metadata": {
      "needs_background": "light"
     },
     "output_type": "display_data"
    }
   ],
   "source": [
    "sns.heatmap(df.corr())"
   ]
  },
  {
   "cell_type": "code",
   "execution_count": 10,
   "metadata": {},
   "outputs": [],
   "source": [
    "df_dummy=df.dropna()"
   ]
  },
  {
   "cell_type": "code",
   "execution_count": 11,
   "metadata": {},
   "outputs": [
    {
     "data": {
      "text/html": [
       "<div>\n",
       "<style scoped>\n",
       "    .dataframe tbody tr th:only-of-type {\n",
       "        vertical-align: middle;\n",
       "    }\n",
       "\n",
       "    .dataframe tbody tr th {\n",
       "        vertical-align: top;\n",
       "    }\n",
       "\n",
       "    .dataframe thead th {\n",
       "        text-align: right;\n",
       "    }\n",
       "</style>\n",
       "<table border=\"1\" class=\"dataframe\">\n",
       "  <thead>\n",
       "    <tr style=\"text-align: right;\">\n",
       "      <th></th>\n",
       "      <th>ID</th>\n",
       "      <th>Gender</th>\n",
       "      <th>Classification</th>\n",
       "      <th>Height</th>\n",
       "      <th>Shoe Size</th>\n",
       "      <th>Phone Time</th>\n",
       "      <th># of Shoes</th>\n",
       "      <th>Birth order</th>\n",
       "      <th>Pets</th>\n",
       "      <th>Happy</th>\n",
       "      <th>...</th>\n",
       "      <th>Exercise</th>\n",
       "      <th>Stat Pre</th>\n",
       "      <th>Stat Post</th>\n",
       "      <th>Phone Type</th>\n",
       "      <th>Sleep</th>\n",
       "      <th>Social Media</th>\n",
       "      <th>Impact of SocNetworking</th>\n",
       "      <th>Political</th>\n",
       "      <th>Animal</th>\n",
       "      <th>Superhero</th>\n",
       "    </tr>\n",
       "  </thead>\n",
       "  <tbody>\n",
       "    <tr>\n",
       "      <th>2</th>\n",
       "      <td>3</td>\n",
       "      <td>female</td>\n",
       "      <td>freshman</td>\n",
       "      <td>64.0</td>\n",
       "      <td>6.0</td>\n",
       "      <td>25.0</td>\n",
       "      <td>15.0</td>\n",
       "      <td>oldest</td>\n",
       "      <td>8.0</td>\n",
       "      <td>0.90</td>\n",
       "      <td>...</td>\n",
       "      <td>30</td>\n",
       "      <td>7.0</td>\n",
       "      <td>5.0</td>\n",
       "      <td>Android smartphone</td>\n",
       "      <td>8.0</td>\n",
       "      <td>60.0</td>\n",
       "      <td>better</td>\n",
       "      <td>Republican</td>\n",
       "      <td>Dog person</td>\n",
       "      <td>Batman</td>\n",
       "    </tr>\n",
       "    <tr>\n",
       "      <th>3</th>\n",
       "      <td>4</td>\n",
       "      <td>female</td>\n",
       "      <td>freshman</td>\n",
       "      <td>63.0</td>\n",
       "      <td>6.5</td>\n",
       "      <td>30.0</td>\n",
       "      <td>30.0</td>\n",
       "      <td>middle</td>\n",
       "      <td>12.0</td>\n",
       "      <td>0.98</td>\n",
       "      <td>...</td>\n",
       "      <td>180</td>\n",
       "      <td>6.0</td>\n",
       "      <td>7.0</td>\n",
       "      <td>iPhone</td>\n",
       "      <td>6.0</td>\n",
       "      <td>60.0</td>\n",
       "      <td>better</td>\n",
       "      <td>Republican</td>\n",
       "      <td>Both</td>\n",
       "      <td>Superman</td>\n",
       "    </tr>\n",
       "    <tr>\n",
       "      <th>4</th>\n",
       "      <td>5</td>\n",
       "      <td>male</td>\n",
       "      <td>senior</td>\n",
       "      <td>69.0</td>\n",
       "      <td>6.5</td>\n",
       "      <td>23.0</td>\n",
       "      <td>8.0</td>\n",
       "      <td>oldest</td>\n",
       "      <td>4.0</td>\n",
       "      <td>0.75</td>\n",
       "      <td>...</td>\n",
       "      <td>180</td>\n",
       "      <td>4.0</td>\n",
       "      <td>7.0</td>\n",
       "      <td>iPhone</td>\n",
       "      <td>5.5</td>\n",
       "      <td>60.0</td>\n",
       "      <td>worse</td>\n",
       "      <td>Independent</td>\n",
       "      <td>Dog person</td>\n",
       "      <td>Superman</td>\n",
       "    </tr>\n",
       "    <tr>\n",
       "      <th>5</th>\n",
       "      <td>6</td>\n",
       "      <td>female</td>\n",
       "      <td>senior</td>\n",
       "      <td>64.0</td>\n",
       "      <td>8.5</td>\n",
       "      <td>13.0</td>\n",
       "      <td>25.0</td>\n",
       "      <td>oldest</td>\n",
       "      <td>1.0</td>\n",
       "      <td>0.95</td>\n",
       "      <td>...</td>\n",
       "      <td>310</td>\n",
       "      <td>7.0</td>\n",
       "      <td>7.0</td>\n",
       "      <td>iPhone</td>\n",
       "      <td>6.5</td>\n",
       "      <td>90.0</td>\n",
       "      <td>no impact</td>\n",
       "      <td>Democrat</td>\n",
       "      <td>Dog person</td>\n",
       "      <td>Batman</td>\n",
       "    </tr>\n",
       "    <tr>\n",
       "      <th>6</th>\n",
       "      <td>7</td>\n",
       "      <td>female</td>\n",
       "      <td>freshman</td>\n",
       "      <td>62.0</td>\n",
       "      <td>8.5</td>\n",
       "      <td>23.0</td>\n",
       "      <td>12.0</td>\n",
       "      <td>oldest</td>\n",
       "      <td>2.0</td>\n",
       "      <td>0.95</td>\n",
       "      <td>...</td>\n",
       "      <td>60</td>\n",
       "      <td>7.0</td>\n",
       "      <td>8.0</td>\n",
       "      <td>Android smartphone</td>\n",
       "      <td>7.0</td>\n",
       "      <td>120.0</td>\n",
       "      <td>better</td>\n",
       "      <td>Republican</td>\n",
       "      <td>Both</td>\n",
       "      <td>Superman</td>\n",
       "    </tr>\n",
       "  </tbody>\n",
       "</table>\n",
       "<p>5 rows × 23 columns</p>\n",
       "</div>"
      ],
      "text/plain": [
       "   ID  Gender Classification  Height  Shoe Size  Phone Time  # of Shoes  \\\n",
       "2   3  female       freshman    64.0        6.0        25.0        15.0   \n",
       "3   4  female       freshman    63.0        6.5        30.0        30.0   \n",
       "4   5    male         senior    69.0        6.5        23.0         8.0   \n",
       "5   6  female         senior    64.0        8.5        13.0        25.0   \n",
       "6   7  female       freshman    62.0        8.5        23.0        12.0   \n",
       "\n",
       "  Birth order  Pets  Happy  ...  Exercise Stat Pre  Stat Post  \\\n",
       "2      oldest   8.0   0.90  ...        30      7.0        5.0   \n",
       "3      middle  12.0   0.98  ...       180      6.0        7.0   \n",
       "4      oldest   4.0   0.75  ...       180      4.0        7.0   \n",
       "5      oldest   1.0   0.95  ...       310      7.0        7.0   \n",
       "6      oldest   2.0   0.95  ...        60      7.0        8.0   \n",
       "\n",
       "           Phone Type  Sleep  Social Media Impact of SocNetworking  \\\n",
       "2  Android smartphone    8.0          60.0                  better   \n",
       "3              iPhone    6.0          60.0                  better   \n",
       "4              iPhone    5.5          60.0                   worse   \n",
       "5              iPhone    6.5          90.0               no impact   \n",
       "6  Android smartphone    7.0         120.0                  better   \n",
       "\n",
       "     Political      Animal Superhero  \n",
       "2   Republican  Dog person    Batman  \n",
       "3   Republican        Both  Superman  \n",
       "4  Independent  Dog person  Superman  \n",
       "5     Democrat  Dog person    Batman  \n",
       "6   Republican        Both  Superman  \n",
       "\n",
       "[5 rows x 23 columns]"
      ]
     },
     "execution_count": 11,
     "metadata": {},
     "output_type": "execute_result"
    }
   ],
   "source": [
    "df_dummy.head()"
   ]
  },
  {
   "cell_type": "code",
   "execution_count": 12,
   "metadata": {},
   "outputs": [
    {
     "data": {
      "text/plain": [
       "ID                         0\n",
       "Gender                     0\n",
       "Classification             0\n",
       "Height                     0\n",
       "Shoe Size                  0\n",
       "Phone Time                 0\n",
       "# of Shoes                 0\n",
       "Birth order                0\n",
       "Pets                       0\n",
       "Happy                      0\n",
       "Funny                      0\n",
       "College                    0\n",
       "Bfast Calories             0\n",
       "Exercise                   0\n",
       "Stat Pre                   0\n",
       "Stat Post                  0\n",
       "Phone Type                 0\n",
       "Sleep                      0\n",
       "Social Media               0\n",
       "Impact of SocNetworking    0\n",
       "Political                  0\n",
       "Animal                     0\n",
       "Superhero                  0\n",
       "dtype: int64"
      ]
     },
     "execution_count": 12,
     "metadata": {},
     "output_type": "execute_result"
    }
   ],
   "source": [
    "df_dummy.isna().sum()"
   ]
  },
  {
   "cell_type": "code",
   "execution_count": 13,
   "metadata": {},
   "outputs": [],
   "source": [
    "from sklearn.model_selection import train_test_split"
   ]
  },
  {
   "cell_type": "code",
   "execution_count": 14,
   "metadata": {},
   "outputs": [],
   "source": [
    "X = df_dummy.drop(columns=['Phone Time',],axis=1)\n",
    "y = df_dummy['Phone Time']"
   ]
  },
  {
   "cell_type": "code",
   "execution_count": 15,
   "metadata": {},
   "outputs": [
    {
     "data": {
      "text/plain": [
       "<AxesSubplot:>"
      ]
     },
     "execution_count": 15,
     "metadata": {},
     "output_type": "execute_result"
    },
    {
     "data": {
      "image/png": "[encoded data removed]",
      "text/plain": [
       "<Figure size 432x288 with 2 Axes>"
      ]
     },
     "metadata": {
      "needs_background": "light"
     },
     "output_type": "display_data"
    }
   ],
   "source": [
    "sns.heatmap(data=df.isnull())"
   ]
  },
  {
   "cell_type": "code",
   "execution_count": 16,
   "metadata": {},
   "outputs": [
    {
     "data": {
      "text/plain": [
       "<AxesSubplot:>"
      ]
     },
     "execution_count": 16,
     "metadata": {},
     "output_type": "execute_result"
    },
    {
     "data": {
      "image/png": "[encoded data removed]",
      "text/plain": [
       "<Figure size 432x288 with 2 Axes>"
      ]
     },
     "metadata": {
      "needs_background": "light"
     },
     "output_type": "display_data"
    }
   ],
   "source": [
    "sns.heatmap(df_dummy.isnull())"
   ]
  },
  {
   "cell_type": "code",
   "execution_count": 17,
   "metadata": {},
   "outputs": [
    {
     "data": {
      "text/plain": [
       "<AxesSubplot:>"
      ]
     },
     "execution_count": 17,
     "metadata": {},
     "output_type": "execute_result"
    },
    {
     "data": {
      "image/png": "[encoded data removed]",
      "text/plain": [
       "<Figure size 432x288 with 1 Axes>"
      ]
     },
     "metadata": {
      "needs_background": "light"
     },
     "output_type": "display_data"
    }
   ],
   "source": [
    "df[df['Classification']=='freshman']['Stat Post'].plot(kind=\"bar\")"
   ]
  },
  {
   "cell_type": "code",
   "execution_count": 18,
   "metadata": {},
   "outputs": [
    {
     "data": {
      "text/plain": [
       "<AxesSubplot:>"
      ]
     },
     "execution_count": 18,
     "metadata": {},
     "output_type": "execute_result"
    },
    {
     "data": {
      "image/png": "[encoded data removed]",
      "text/plain": [
       "<Figure size 432x288 with 1 Axes>"
      ]
     },
     "metadata": {
      "needs_background": "light"
     },
     "output_type": "display_data"
    }
   ],
   "source": [
    "df[df['Classification']=='senior']['Stat Post'].plot(kind=\"bar\")"
   ]
  },
  {
   "cell_type": "code",
   "execution_count": 19,
   "metadata": {},
   "outputs": [
    {
     "data": {
      "text/plain": [
       "1      NaN\n",
       "2      5.0\n",
       "3      7.0\n",
       "6      8.0\n",
       "7      7.0\n",
       "8      6.0\n",
       "9     10.0\n",
       "10     7.0\n",
       "11     7.0\n",
       "12     7.0\n",
       "13     NaN\n",
       "15     8.0\n",
       "16     7.0\n",
       "17     5.0\n",
       "18     6.0\n",
       "19     6.0\n",
       "22     6.0\n",
       "23     9.0\n",
       "25     8.0\n",
       "27     6.0\n",
       "28     7.0\n",
       "29     5.0\n",
       "30     7.0\n",
       "35     8.0\n",
       "37     6.0\n",
       "38     7.0\n",
       "40     5.0\n",
       "41     8.0\n",
       "42     5.0\n",
       "43     8.0\n",
       "44     NaN\n",
       "45     8.0\n",
       "46     9.0\n",
       "48     5.0\n",
       "49     5.0\n",
       "55     5.0\n",
       "57     8.0\n",
       "64     8.0\n",
       "65     9.0\n",
       "67     6.0\n",
       "68     6.0\n",
       "69     8.0\n",
       "71     8.0\n",
       "72     6.0\n",
       "73     8.0\n",
       "75     5.0\n",
       "Name: Stat Post, dtype: float64"
      ]
     },
     "execution_count": 19,
     "metadata": {},
     "output_type": "execute_result"
    }
   ],
   "source": [
    "df[df['Classification']=='freshman']['Stat Post']"
   ]
  },
  {
   "cell_type": "code",
   "execution_count": 20,
   "metadata": {},
   "outputs": [
    {
     "data": {
      "text/plain": [
       "0     NaN\n",
       "4     7.0\n",
       "5     7.0\n",
       "24    5.0\n",
       "47    6.0\n",
       "52    8.0\n",
       "Name: Stat Post, dtype: float64"
      ]
     },
     "execution_count": 20,
     "metadata": {},
     "output_type": "execute_result"
    }
   ],
   "source": [
    "df[df['Classification']=='senior']['Stat Post']"
   ]
  },
  {
   "cell_type": "code",
   "execution_count": 21,
   "metadata": {},
   "outputs": [
    {
     "data": {
      "text/plain": [
       "<AxesSubplot:xlabel='Gender', ylabel='count'>"
      ]
     },
     "execution_count": 21,
     "metadata": {},
     "output_type": "execute_result"
    },
    {
     "data": {
      "image/png": "[encoded data removed]",
      "text/plain": [
       "<Figure size 432x288 with 1 Axes>"
      ]
     },
     "metadata": {
      "needs_background": "light"
     },
     "output_type": "display_data"
    }
   ],
   "source": [
    "sns.countplot(data=df,x='Gender')"
   ]
  },
  {
   "cell_type": "code",
   "execution_count": 22,
   "metadata": {
    "scrolled": true
   },
   "outputs": [
    {
     "data": {
      "text/plain": [
       "<AxesSubplot:xlabel='Stat Post', ylabel='count'>"
      ]
     },
     "execution_count": 22,
     "metadata": {},
     "output_type": "execute_result"
    },
    {
     "data": {
      "image/png": "[encoded data removed]",
      "text/plain": [
       "<Figure size 432x288 with 1 Axes>"
      ]
     },
     "metadata": {
      "needs_background": "light"
     },
     "output_type": "display_data"
    }
   ],
   "source": [
    "sns.countplot(data=df,x='Stat Post',hue='Gender')"
   ]
  },
  {
   "cell_type": "code",
   "execution_count": 23,
   "metadata": {
    "scrolled": true
   },
   "outputs": [
    {
     "data": {
      "text/plain": [
       "<AxesSubplot:xlabel='Stat Post', ylabel='count'>"
      ]
     },
     "execution_count": 23,
     "metadata": {},
     "output_type": "execute_result"
    },
    {
     "data": {
      "image/png": "[encoded data removed]",
      "text/plain": [
       "<Figure size 432x288 with 1 Axes>"
      ]
     },
     "metadata": {
      "needs_background": "light"
     },
     "output_type": "display_data"
    }
   ],
   "source": [
    "sns.countplot(data=df,x='Stat Post',hue='Classification')"
   ]
  },
  {
   "cell_type": "code",
   "execution_count": 24,
   "metadata": {},
   "outputs": [],
   "source": [
    "import math\n",
    "a={'senior':math.ceil(df[df['Classification']=='senior']['Stat Post'].mean()),\n",
    "  'freshman':math.ceil(df[df['Classification']=='freshman']['Stat Post'].mean()),\n",
    "  'junior':math.ceil(df[df['Classification']=='junior']['Stat Post'].mean()),\n",
    "  'sophomore':math.ceil(df[df['Classification']=='sophomore']['Stat Post'].mean())}"
   ]
  },
  {
   "cell_type": "code",
   "execution_count": 25,
   "metadata": {},
   "outputs": [
    {
     "data": {
      "text/plain": [
       "<AxesSubplot:xlabel='Stat Post', ylabel='count'>"
      ]
     },
     "execution_count": 25,
     "metadata": {},
     "output_type": "execute_result"
    },
    {
     "data": {
      "image/png": "[encoded data removed]",
      "text/plain": [
       "<Figure size 432x288 with 1 Axes>"
      ]
     },
     "metadata": {
      "needs_background": "light"
     },
     "output_type": "display_data"
    }
   ],
   "source": [
    "sns.countplot(data=df,x='Stat Post',hue='Classification')"
   ]
  },
  {
   "cell_type": "code",
   "execution_count": 26,
   "metadata": {},
   "outputs": [
    {
     "data": {
      "text/plain": [
       "14     9.0\n",
       "20     NaN\n",
       "21     7.0\n",
       "26     9.0\n",
       "32     7.0\n",
       "33     7.0\n",
       "34    10.0\n",
       "39     6.0\n",
       "54     7.0\n",
       "58     6.0\n",
       "59     8.0\n",
       "60     7.0\n",
       "61     7.0\n",
       "62     7.0\n",
       "63     8.0\n",
       "66     9.0\n",
       "74     NaN\n",
       "Name: Stat Post, dtype: float64"
      ]
     },
     "execution_count": 26,
     "metadata": {},
     "output_type": "execute_result"
    }
   ],
   "source": [
    "df[df['Classification']=='sophomore']['Stat Post']"
   ]
  },
  {
   "cell_type": "code",
   "execution_count": 27,
   "metadata": {},
   "outputs": [
    {
     "name": "stdout",
     "output_type": "stream",
     "text": [
      "[7, 7, 5.0, 7.0, 7.0, 7.0, 8.0, 7.0, 6.0, 10.0, 7.0, 7.0, 7.0, 7, 9.0, 8.0, 7.0, 5.0, 6.0, 6.0, 8, 7.0, 6.0, 9.0, 5.0, 8.0, 9.0, 6.0, 7.0, 5.0, 7.0, 5.0, 7.0, 7.0, 10.0, 8.0, 4.0, 6.0, 7.0, 6.0, 5.0, 8.0, 5.0, 8.0, 7, 8.0, 9.0, 6.0, 5.0, 5.0, 9.0, 6.0, 8.0, 7.0, 7.0, 5.0, 6.0, 8.0, 6.0, 8.0, 7.0, 7.0, 7.0, 8.0, 8.0, 9.0, 9.0, 6.0, 6.0, 8.0, 6.0, 8.0, 6.0, 8.0, 8, 5.0]\n"
     ]
    }
   ],
   "source": [
    "d=[]\n",
    "c=np.array(df['Classification'])\n",
    "b=np.array(df['Stat Post'])\n",
    "for i,x in zip(c,b):\n",
    "    if np.isnan(x):\n",
    "        x=a[i]\n",
    "    d.append(x)\n",
    "print(d)"
   ]
  },
  {
   "cell_type": "code",
   "execution_count": 28,
   "metadata": {},
   "outputs": [],
   "source": [
    "d=np.array(d)\n",
    "d=pd.DataFrame(d,columns=['Stat Post new'])\n",
    "df_dummy=pd.concat(objs=[df,d],axis=1)"
   ]
  },
  {
   "cell_type": "code",
   "execution_count": 29,
   "metadata": {},
   "outputs": [
    {
     "data": {
      "text/plain": [
       "ID                         0\n",
       "Gender                     0\n",
       "Classification             0\n",
       "Height                     0\n",
       "Shoe Size                  0\n",
       "Phone Time                 1\n",
       "# of Shoes                 1\n",
       "Birth order                0\n",
       "Pets                       1\n",
       "Happy                      2\n",
       "Funny                      3\n",
       "College                    0\n",
       "Bfast Calories             2\n",
       "Exercise                   0\n",
       "Stat Pre                   1\n",
       "Phone Type                 0\n",
       "Sleep                      1\n",
       "Social Media               1\n",
       "Impact of SocNetworking    0\n",
       "Political                  0\n",
       "Animal                     0\n",
       "Superhero                  0\n",
       "Stat Post new              0\n",
       "dtype: int64"
      ]
     },
     "execution_count": 29,
     "metadata": {},
     "output_type": "execute_result"
    }
   ],
   "source": [
    "df_dummy.drop(columns=['Stat Post'],axis=1,inplace=True)\n",
    "df_dummy.isna().sum()"
   ]
  },
  {
   "cell_type": "code",
   "execution_count": 30,
   "metadata": {},
   "outputs": [
    {
     "data": {
      "text/plain": [
       "<AxesSubplot:xlabel='Funny', ylabel='count'>"
      ]
     },
     "execution_count": 30,
     "metadata": {},
     "output_type": "execute_result"
    },
    {
     "data": {
      "image/png": "[encoded data removed]",
      "text/plain": [
       "<Figure size 432x288 with 1 Axes>"
      ]
     },
     "metadata": {
      "needs_background": "light"
     },
     "output_type": "display_data"
    }
   ],
   "source": [
    "sns.countplot(data=df,x='Funny',hue='Gender')"
   ]
  },
  {
   "cell_type": "code",
   "execution_count": 31,
   "metadata": {},
   "outputs": [
    {
     "data": {
      "text/plain": [
       "1"
      ]
     },
     "execution_count": 31,
     "metadata": {},
     "output_type": "execute_result"
    }
   ],
   "source": [
    "df[df['Gender']=='male']['Funny'].isna().sum()"
   ]
  },
  {
   "cell_type": "code",
   "execution_count": 32,
   "metadata": {},
   "outputs": [
    {
     "data": {
      "text/plain": [
       "0      7.0\n",
       "1      8.0\n",
       "4      6.0\n",
       "11     9.0\n",
       "19     9.0\n",
       "24     6.0\n",
       "25     5.0\n",
       "31     3.0\n",
       "39     6.0\n",
       "43     7.0\n",
       "50    10.0\n",
       "51     7.0\n",
       "52     8.0\n",
       "53    11.0\n",
       "54     5.0\n",
       "56     7.0\n",
       "57     NaN\n",
       "59     7.0\n",
       "67     7.0\n",
       "68     8.0\n",
       "69    10.0\n",
       "70     7.0\n",
       "Name: Funny, dtype: float64"
      ]
     },
     "execution_count": 32,
     "metadata": {},
     "output_type": "execute_result"
    }
   ],
   "source": [
    "df[df['Gender']=='male']['Funny']"
   ]
  },
  {
   "cell_type": "code",
   "execution_count": 33,
   "metadata": {},
   "outputs": [
    {
     "data": {
      "text/plain": [
       "2      6.0\n",
       "3      9.0\n",
       "5      5.0\n",
       "6      7.0\n",
       "7      4.0\n",
       "8      9.0\n",
       "9      NaN\n",
       "10    10.0\n",
       "12     8.0\n",
       "13     7.0\n",
       "14     6.0\n",
       "15     7.0\n",
       "16     9.0\n",
       "17     6.0\n",
       "18     8.0\n",
       "20     8.0\n",
       "21     6.0\n",
       "22     5.0\n",
       "23     5.0\n",
       "26     9.0\n",
       "27     7.0\n",
       "28     5.0\n",
       "29     6.0\n",
       "30     8.0\n",
       "32     8.0\n",
       "33     5.0\n",
       "34     7.0\n",
       "35     8.0\n",
       "36     9.0\n",
       "37     8.0\n",
       "38     6.0\n",
       "40     7.0\n",
       "41     5.0\n",
       "42     6.0\n",
       "44     6.0\n",
       "45     7.0\n",
       "46     7.0\n",
       "47     7.0\n",
       "48     7.0\n",
       "49     7.0\n",
       "55     5.0\n",
       "58     7.0\n",
       "60     5.0\n",
       "61     7.0\n",
       "62     6.0\n",
       "63     7.0\n",
       "64     7.0\n",
       "65     4.0\n",
       "66     7.0\n",
       "71     8.0\n",
       "72     8.0\n",
       "73     NaN\n",
       "74     8.0\n",
       "75     7.0\n",
       "Name: Funny, dtype: float64"
      ]
     },
     "execution_count": 33,
     "metadata": {},
     "output_type": "execute_result"
    }
   ],
   "source": [
    "df[df['Gender']=='female']['Funny']"
   ]
  },
  {
   "cell_type": "code",
   "execution_count": 34,
   "metadata": {},
   "outputs": [
    {
     "data": {
      "text/plain": [
       "<AxesSubplot:>"
      ]
     },
     "execution_count": 34,
     "metadata": {},
     "output_type": "execute_result"
    },
    {
     "data": {
      "image/png": "[encoded data removed]",
      "text/plain": [
       "<Figure size 432x288 with 1 Axes>"
      ]
     },
     "metadata": {
      "needs_background": "light"
     },
     "output_type": "display_data"
    }
   ],
   "source": [
    "df['Funny'].plot()"
   ]
  },
  {
   "cell_type": "code",
   "execution_count": 35,
   "metadata": {},
   "outputs": [],
   "source": [
    "df['Funny'].fillna(method='ffill',inplace=True)\n",
    "df_dummy['Funny'].fillna(method='ffill',inplace=True)"
   ]
  },
  {
   "cell_type": "code",
   "execution_count": 36,
   "metadata": {},
   "outputs": [
    {
     "data": {
      "text/plain": [
       "0"
      ]
     },
     "execution_count": 36,
     "metadata": {},
     "output_type": "execute_result"
    }
   ],
   "source": [
    "df['Funny'].isna().sum()\n",
    "df_dummy['Funny'].isna().sum()"
   ]
  },
  {
   "cell_type": "code",
   "execution_count": 37,
   "metadata": {},
   "outputs": [
    {
     "data": {
      "text/plain": [
       "<AxesSubplot:>"
      ]
     },
     "execution_count": 37,
     "metadata": {},
     "output_type": "execute_result"
    },
    {
     "data": {
      "image/png": "[encoded data removed]",
      "text/plain": [
       "<Figure size 432x288 with 1 Axes>"
      ]
     },
     "metadata": {
      "needs_background": "light"
     },
     "output_type": "display_data"
    }
   ],
   "source": [
    "df_dummy['Funny'].plot()"
   ]
  },
  {
   "cell_type": "code",
   "execution_count": 38,
   "metadata": {},
   "outputs": [
    {
     "data": {
      "text/plain": [
       "ID                         0\n",
       "Gender                     0\n",
       "Classification             0\n",
       "Height                     0\n",
       "Shoe Size                  0\n",
       "Phone Time                 1\n",
       "# of Shoes                 1\n",
       "Birth order                0\n",
       "Pets                       1\n",
       "Happy                      2\n",
       "Funny                      0\n",
       "College                    0\n",
       "Bfast Calories             2\n",
       "Exercise                   0\n",
       "Stat Pre                   1\n",
       "Phone Type                 0\n",
       "Sleep                      1\n",
       "Social Media               1\n",
       "Impact of SocNetworking    0\n",
       "Political                  0\n",
       "Animal                     0\n",
       "Superhero                  0\n",
       "Stat Post new              0\n",
       "dtype: int64"
      ]
     },
     "execution_count": 38,
     "metadata": {},
     "output_type": "execute_result"
    }
   ],
   "source": [
    "df_dummy.isna().sum()"
   ]
  },
  {
   "cell_type": "code",
   "execution_count": 39,
   "metadata": {},
   "outputs": [
    {
     "data": {
      "text/plain": [
       "0      500.0\n",
       "1        0.0\n",
       "2      200.0\n",
       "3      200.0\n",
       "4        0.0\n",
       "       ...  \n",
       "71       2.0\n",
       "72    1000.0\n",
       "73     275.0\n",
       "74     250.0\n",
       "75     350.0\n",
       "Name: Bfast Calories, Length: 76, dtype: float64"
      ]
     },
     "execution_count": 39,
     "metadata": {},
     "output_type": "execute_result"
    }
   ],
   "source": [
    "df_dummy['Bfast Calories']"
   ]
  },
  {
   "cell_type": "code",
   "execution_count": 40,
   "metadata": {},
   "outputs": [
    {
     "data": {
      "text/plain": [
       "<AxesSubplot:>"
      ]
     },
     "execution_count": 40,
     "metadata": {},
     "output_type": "execute_result"
    },
    {
     "data": {
      "image/png": "[encoded data removed]",
      "text/plain": [
       "<Figure size 432x288 with 1 Axes>"
      ]
     },
     "metadata": {
      "needs_background": "light"
     },
     "output_type": "display_data"
    }
   ],
   "source": [
    "df_dummy['Bfast Calories'].plot()"
   ]
  },
  {
   "cell_type": "code",
   "execution_count": 41,
   "metadata": {},
   "outputs": [
    {
     "data": {
      "text/plain": [
       "0     500.0\n",
       "1       0.0\n",
       "4       0.0\n",
       "11    300.0\n",
       "19     90.0\n",
       "24    600.0\n",
       "25    220.0\n",
       "31    500.0\n",
       "39    600.0\n",
       "43    200.0\n",
       "50    300.0\n",
       "51      0.0\n",
       "52      0.0\n",
       "53      NaN\n",
       "54    400.0\n",
       "56    500.0\n",
       "57    200.0\n",
       "59    300.0\n",
       "67    150.0\n",
       "68    450.0\n",
       "69    500.0\n",
       "70      0.0\n",
       "Name: Bfast Calories, dtype: float64"
      ]
     },
     "execution_count": 41,
     "metadata": {},
     "output_type": "execute_result"
    }
   ],
   "source": [
    "df_dummy[df_dummy['Gender']=='male']['Bfast Calories']"
   ]
  },
  {
   "cell_type": "code",
   "execution_count": 42,
   "metadata": {},
   "outputs": [
    {
     "data": {
      "text/plain": [
       "<AxesSubplot:>"
      ]
     },
     "execution_count": 42,
     "metadata": {},
     "output_type": "execute_result"
    },
    {
     "data": {
      "image/png": "[encoded data removed]",
      "text/plain": [
       "<Figure size 432x288 with 1 Axes>"
      ]
     },
     "metadata": {
      "needs_background": "light"
     },
     "output_type": "display_data"
    }
   ],
   "source": [
    "df_dummy[df_dummy['Gender']=='male']['Bfast Calories'].plot()"
   ]
  },
  {
   "cell_type": "code",
   "execution_count": 43,
   "metadata": {},
   "outputs": [
    {
     "data": {
      "text/plain": [
       "<AxesSubplot:>"
      ]
     },
     "execution_count": 43,
     "metadata": {},
     "output_type": "execute_result"
    },
    {
     "data": {
      "image/png": "[encoded data removed]",
      "text/plain": [
       "<Figure size 432x288 with 1 Axes>"
      ]
     },
     "metadata": {
      "needs_background": "light"
     },
     "output_type": "display_data"
    }
   ],
   "source": [
    "df_dummy[df_dummy['Gender']=='female']['Bfast Calories'].plot()"
   ]
  },
  {
   "cell_type": "code",
   "execution_count": 44,
   "metadata": {},
   "outputs": [],
   "source": [
    "Bfast_calorie=[]\n",
    "a={'male':df_dummy[df_dummy['Gender']=='male']['Bfast Calories'].mean(),\n",
    "  'female':df_dummy[df_dummy['Gender']=='female']['Bfast Calories'].mean()}"
   ]
  },
  {
   "cell_type": "code",
   "execution_count": 45,
   "metadata": {},
   "outputs": [],
   "source": [
    "Bfast=np.array(df['Bfast Calories'])\n",
    "Bfast_val=[]\n",
    "for i,j in zip(Bfast,df['Gender']):\n",
    "    if np.isnan(i):\n",
    "        i=a[j]\n",
    "        \n",
    "    Bfast_val.append(i)\n",
    "np.isnan(Bfast_val)\n",
    "Bfast_val=np.array(Bfast_val)\n",
    "Bfast_val = pd.DataFrame(Bfast_val,columns=['Bfast Calories new'])\n",
    "df_dummy=pd.concat([df_dummy,Bfast_val],axis=1)"
   ]
  },
  {
   "cell_type": "code",
   "execution_count": 46,
   "metadata": {},
   "outputs": [],
   "source": [
    "df_dummy.drop(columns=['Bfast Calories'],axis=1,inplace=True)"
   ]
  },
  {
   "cell_type": "code",
   "execution_count": 47,
   "metadata": {},
   "outputs": [
    {
     "data": {
      "text/html": [
       "<div>\n",
       "<style scoped>\n",
       "    .dataframe tbody tr th:only-of-type {\n",
       "        vertical-align: middle;\n",
       "    }\n",
       "\n",
       "    .dataframe tbody tr th {\n",
       "        vertical-align: top;\n",
       "    }\n",
       "\n",
       "    .dataframe thead th {\n",
       "        text-align: right;\n",
       "    }\n",
       "</style>\n",
       "<table border=\"1\" class=\"dataframe\">\n",
       "  <thead>\n",
       "    <tr style=\"text-align: right;\">\n",
       "      <th></th>\n",
       "      <th>ID</th>\n",
       "      <th>Gender</th>\n",
       "      <th>Classification</th>\n",
       "      <th>Height</th>\n",
       "      <th>Shoe Size</th>\n",
       "      <th>Phone Time</th>\n",
       "      <th># of Shoes</th>\n",
       "      <th>Birth order</th>\n",
       "      <th>Pets</th>\n",
       "      <th>Happy</th>\n",
       "      <th>...</th>\n",
       "      <th>Stat Pre</th>\n",
       "      <th>Phone Type</th>\n",
       "      <th>Sleep</th>\n",
       "      <th>Social Media</th>\n",
       "      <th>Impact of SocNetworking</th>\n",
       "      <th>Political</th>\n",
       "      <th>Animal</th>\n",
       "      <th>Superhero</th>\n",
       "      <th>Stat Post new</th>\n",
       "      <th>Bfast Calories new</th>\n",
       "    </tr>\n",
       "  </thead>\n",
       "  <tbody>\n",
       "    <tr>\n",
       "      <th>0</th>\n",
       "      <td>1</td>\n",
       "      <td>male</td>\n",
       "      <td>senior</td>\n",
       "      <td>67.75</td>\n",
       "      <td>7.0</td>\n",
       "      <td>12.0</td>\n",
       "      <td>12.0</td>\n",
       "      <td>youngest</td>\n",
       "      <td>5.0</td>\n",
       "      <td>0.80</td>\n",
       "      <td>...</td>\n",
       "      <td>3.0</td>\n",
       "      <td>iPhone</td>\n",
       "      <td>7.0</td>\n",
       "      <td>180.0</td>\n",
       "      <td>worse</td>\n",
       "      <td>Democrat</td>\n",
       "      <td>Dog person</td>\n",
       "      <td>Batman</td>\n",
       "      <td>7.0</td>\n",
       "      <td>500.0</td>\n",
       "    </tr>\n",
       "    <tr>\n",
       "      <th>1</th>\n",
       "      <td>2</td>\n",
       "      <td>male</td>\n",
       "      <td>freshman</td>\n",
       "      <td>71.00</td>\n",
       "      <td>7.5</td>\n",
       "      <td>1.5</td>\n",
       "      <td>5.0</td>\n",
       "      <td>middle</td>\n",
       "      <td>4.0</td>\n",
       "      <td>0.75</td>\n",
       "      <td>...</td>\n",
       "      <td>9.0</td>\n",
       "      <td>Android smartphone</td>\n",
       "      <td>7.0</td>\n",
       "      <td>20.0</td>\n",
       "      <td>better</td>\n",
       "      <td>Democrat</td>\n",
       "      <td>Dog person</td>\n",
       "      <td>Batman</td>\n",
       "      <td>7.0</td>\n",
       "      <td>0.0</td>\n",
       "    </tr>\n",
       "    <tr>\n",
       "      <th>2</th>\n",
       "      <td>3</td>\n",
       "      <td>female</td>\n",
       "      <td>freshman</td>\n",
       "      <td>64.00</td>\n",
       "      <td>6.0</td>\n",
       "      <td>25.0</td>\n",
       "      <td>15.0</td>\n",
       "      <td>oldest</td>\n",
       "      <td>8.0</td>\n",
       "      <td>0.90</td>\n",
       "      <td>...</td>\n",
       "      <td>7.0</td>\n",
       "      <td>Android smartphone</td>\n",
       "      <td>8.0</td>\n",
       "      <td>60.0</td>\n",
       "      <td>better</td>\n",
       "      <td>Republican</td>\n",
       "      <td>Dog person</td>\n",
       "      <td>Batman</td>\n",
       "      <td>5.0</td>\n",
       "      <td>200.0</td>\n",
       "    </tr>\n",
       "    <tr>\n",
       "      <th>3</th>\n",
       "      <td>4</td>\n",
       "      <td>female</td>\n",
       "      <td>freshman</td>\n",
       "      <td>63.00</td>\n",
       "      <td>6.5</td>\n",
       "      <td>30.0</td>\n",
       "      <td>30.0</td>\n",
       "      <td>middle</td>\n",
       "      <td>12.0</td>\n",
       "      <td>0.98</td>\n",
       "      <td>...</td>\n",
       "      <td>6.0</td>\n",
       "      <td>iPhone</td>\n",
       "      <td>6.0</td>\n",
       "      <td>60.0</td>\n",
       "      <td>better</td>\n",
       "      <td>Republican</td>\n",
       "      <td>Both</td>\n",
       "      <td>Superman</td>\n",
       "      <td>7.0</td>\n",
       "      <td>200.0</td>\n",
       "    </tr>\n",
       "    <tr>\n",
       "      <th>4</th>\n",
       "      <td>5</td>\n",
       "      <td>male</td>\n",
       "      <td>senior</td>\n",
       "      <td>69.00</td>\n",
       "      <td>6.5</td>\n",
       "      <td>23.0</td>\n",
       "      <td>8.0</td>\n",
       "      <td>oldest</td>\n",
       "      <td>4.0</td>\n",
       "      <td>0.75</td>\n",
       "      <td>...</td>\n",
       "      <td>4.0</td>\n",
       "      <td>iPhone</td>\n",
       "      <td>5.5</td>\n",
       "      <td>60.0</td>\n",
       "      <td>worse</td>\n",
       "      <td>Independent</td>\n",
       "      <td>Dog person</td>\n",
       "      <td>Superman</td>\n",
       "      <td>7.0</td>\n",
       "      <td>0.0</td>\n",
       "    </tr>\n",
       "  </tbody>\n",
       "</table>\n",
       "<p>5 rows × 23 columns</p>\n",
       "</div>"
      ],
      "text/plain": [
       "   ID  Gender Classification  Height  Shoe Size  Phone Time  # of Shoes  \\\n",
       "0   1    male         senior   67.75        7.0        12.0        12.0   \n",
       "1   2    male       freshman   71.00        7.5         1.5         5.0   \n",
       "2   3  female       freshman   64.00        6.0        25.0        15.0   \n",
       "3   4  female       freshman   63.00        6.5        30.0        30.0   \n",
       "4   5    male         senior   69.00        6.5        23.0         8.0   \n",
       "\n",
       "  Birth order  Pets  Happy  ...  Stat Pre          Phone Type  Sleep  \\\n",
       "0    youngest   5.0   0.80  ...       3.0              iPhone    7.0   \n",
       "1      middle   4.0   0.75  ...       9.0  Android smartphone    7.0   \n",
       "2      oldest   8.0   0.90  ...       7.0  Android smartphone    8.0   \n",
       "3      middle  12.0   0.98  ...       6.0              iPhone    6.0   \n",
       "4      oldest   4.0   0.75  ...       4.0              iPhone    5.5   \n",
       "\n",
       "   Social Media Impact of SocNetworking    Political      Animal Superhero  \\\n",
       "0         180.0                   worse     Democrat  Dog person    Batman   \n",
       "1          20.0                  better     Democrat  Dog person    Batman   \n",
       "2          60.0                  better   Republican  Dog person    Batman   \n",
       "3          60.0                  better   Republican        Both  Superman   \n",
       "4          60.0                   worse  Independent  Dog person  Superman   \n",
       "\n",
       "  Stat Post new Bfast Calories new  \n",
       "0           7.0              500.0  \n",
       "1           7.0                0.0  \n",
       "2           5.0              200.0  \n",
       "3           7.0              200.0  \n",
       "4           7.0                0.0  \n",
       "\n",
       "[5 rows x 23 columns]"
      ]
     },
     "execution_count": 47,
     "metadata": {},
     "output_type": "execute_result"
    }
   ],
   "source": [
    "df_dummy.head()"
   ]
  },
  {
   "cell_type": "code",
   "execution_count": 48,
   "metadata": {},
   "outputs": [
    {
     "data": {
      "text/plain": [
       "ID                         0\n",
       "Gender                     0\n",
       "Classification             0\n",
       "Height                     0\n",
       "Shoe Size                  0\n",
       "Phone Time                 1\n",
       "# of Shoes                 1\n",
       "Birth order                0\n",
       "Pets                       1\n",
       "Happy                      2\n",
       "Funny                      0\n",
       "College                    0\n",
       "Exercise                   0\n",
       "Stat Pre                   1\n",
       "Phone Type                 0\n",
       "Sleep                      1\n",
       "Social Media               1\n",
       "Impact of SocNetworking    0\n",
       "Political                  0\n",
       "Animal                     0\n",
       "Superhero                  0\n",
       "Stat Post new              0\n",
       "Bfast Calories new         0\n",
       "dtype: int64"
      ]
     },
     "execution_count": 48,
     "metadata": {},
     "output_type": "execute_result"
    }
   ],
   "source": [
    "df_dummy.isna().sum()"
   ]
  },
  {
   "cell_type": "code",
   "execution_count": 49,
   "metadata": {},
   "outputs": [
    {
     "data": {
      "text/plain": [
       "<AxesSubplot:>"
      ]
     },
     "execution_count": 49,
     "metadata": {},
     "output_type": "execute_result"
    },
    {
     "data": {
      "image/png": "[encoded data removed]",
      "text/plain": [
       "<Figure size 432x288 with 1 Axes>"
      ]
     },
     "metadata": {
      "needs_background": "light"
     },
     "output_type": "display_data"
    }
   ],
   "source": [
    "df['Happy'].plot()"
   ]
  },
  {
   "cell_type": "code",
   "execution_count": 50,
   "metadata": {},
   "outputs": [
    {
     "data": {
      "text/plain": [
       "<AxesSubplot:xlabel='Happy', ylabel='count'>"
      ]
     },
     "execution_count": 50,
     "metadata": {},
     "output_type": "execute_result"
    },
    {
     "data": {
      "image/png": "[encoded data removed]",
      "text/plain": [
       "<Figure size 432x288 with 1 Axes>"
      ]
     },
     "metadata": {
      "needs_background": "light"
     },
     "output_type": "display_data"
    }
   ],
   "source": [
    "sns.countplot(x='Happy',data=df,hue='Gender')"
   ]
  },
  {
   "cell_type": "code",
   "execution_count": 51,
   "metadata": {},
   "outputs": [
    {
     "data": {
      "text/plain": [
       "<AxesSubplot:xlabel='ID', ylabel='Happy'>"
      ]
     },
     "execution_count": 51,
     "metadata": {},
     "output_type": "execute_result"
    },
    {
     "data": {
      "image/png": "[encoded data removed]",
      "text/plain": [
       "<Figure size 432x288 with 1 Axes>"
      ]
     },
     "metadata": {
      "needs_background": "light"
     },
     "output_type": "display_data"
    }
   ],
   "source": [
    "sns.lineplot(x='ID',data=df,y='Happy',hue='Gender')"
   ]
  },
  {
   "cell_type": "code",
   "execution_count": 52,
   "metadata": {},
   "outputs": [
    {
     "data": {
      "text/plain": [
       "<AxesSubplot:xlabel='Phone Time', ylabel='count'>"
      ]
     },
     "execution_count": 52,
     "metadata": {},
     "output_type": "execute_result"
    },
    {
     "data": {
      "image/png": "[encoded data removed]",
      "text/plain": [
       "<Figure size 432x288 with 1 Axes>"
      ]
     },
     "metadata": {
      "needs_background": "light"
     },
     "output_type": "display_data"
    }
   ],
   "source": [
    "sns.countplot(x='Phone Time',data=df,hue='Gender')"
   ]
  },
  {
   "cell_type": "code",
   "execution_count": 53,
   "metadata": {},
   "outputs": [
    {
     "data": {
      "text/plain": [
       "<AxesSubplot:xlabel='ID', ylabel='Phone Time'>"
      ]
     },
     "execution_count": 53,
     "metadata": {},
     "output_type": "execute_result"
    },
    {
     "data": {
      "image/png": "[encoded data removed]",
      "text/plain": [
       "<Figure size 432x288 with 1 Axes>"
      ]
     },
     "metadata": {
      "needs_background": "light"
     },
     "output_type": "display_data"
    }
   ],
   "source": [
    "sns.lineplot(x='ID',data=df,y='Phone Time')"
   ]
  },
  {
   "cell_type": "code",
   "execution_count": 54,
   "metadata": {},
   "outputs": [],
   "source": [
    "df_dummy['Phone Time'].fillna(value=df_dummy['Phone Time'].mean(),inplace =True)"
   ]
  },
  {
   "cell_type": "code",
   "execution_count": 55,
   "metadata": {},
   "outputs": [
    {
     "data": {
      "text/plain": [
       "<AxesSubplot:xlabel='ID', ylabel='Phone Time'>"
      ]
     },
     "execution_count": 55,
     "metadata": {},
     "output_type": "execute_result"
    },
    {
     "data": {
      "image/png": "[encoded data removed]",
      "text/plain": [
       "<Figure size 432x288 with 1 Axes>"
      ]
     },
     "metadata": {
      "needs_background": "light"
     },
     "output_type": "display_data"
    }
   ],
   "source": [
    "sns.lineplot(x='ID',data=df_dummy,y='Phone Time')"
   ]
  },
  {
   "cell_type": "code",
   "execution_count": 56,
   "metadata": {},
   "outputs": [
    {
     "data": {
      "text/plain": [
       "ID                         0\n",
       "Gender                     0\n",
       "Classification             0\n",
       "Height                     0\n",
       "Shoe Size                  0\n",
       "Phone Time                 0\n",
       "# of Shoes                 1\n",
       "Birth order                0\n",
       "Pets                       1\n",
       "Happy                      2\n",
       "Funny                      0\n",
       "College                    0\n",
       "Exercise                   0\n",
       "Stat Pre                   1\n",
       "Phone Type                 0\n",
       "Sleep                      1\n",
       "Social Media               1\n",
       "Impact of SocNetworking    0\n",
       "Political                  0\n",
       "Animal                     0\n",
       "Superhero                  0\n",
       "Stat Post new              0\n",
       "Bfast Calories new         0\n",
       "dtype: int64"
      ]
     },
     "execution_count": 56,
     "metadata": {},
     "output_type": "execute_result"
    }
   ],
   "source": [
    "df_dummy.isna().sum()"
   ]
  },
  {
   "cell_type": "code",
   "execution_count": 57,
   "metadata": {},
   "outputs": [
    {
     "data": {
      "text/plain": [
       "<AxesSubplot:>"
      ]
     },
     "execution_count": 57,
     "metadata": {},
     "output_type": "execute_result"
    },
    {
     "data": {
      "image/png": "[encoded data removed]",
      "text/plain": [
       "<Figure size 432x288 with 1 Axes>"
      ]
     },
     "metadata": {
      "needs_background": "light"
     },
     "output_type": "display_data"
    }
   ],
   "source": [
    "df['Happy'].plot()"
   ]
  },
  {
   "cell_type": "code",
   "execution_count": 58,
   "metadata": {},
   "outputs": [
    {
     "data": {
      "text/plain": [
       "<AxesSubplot:>"
      ]
     },
     "execution_count": 58,
     "metadata": {},
     "output_type": "execute_result"
    },
    {
     "data": {
      "image/png": "[encoded data removed]",
      "text/plain": [
       "<Figure size 432x288 with 1 Axes>"
      ]
     },
     "metadata": {
      "needs_background": "light"
     },
     "output_type": "display_data"
    }
   ],
   "source": [
    "df[df['Gender']=='male']['Happy'].plot(kind='bar')"
   ]
  },
  {
   "cell_type": "code",
   "execution_count": 59,
   "metadata": {},
   "outputs": [
    {
     "data": {
      "text/plain": [
       "<AxesSubplot:>"
      ]
     },
     "execution_count": 59,
     "metadata": {},
     "output_type": "execute_result"
    },
    {
     "data": {
      "image/png": "[encoded data removed]",
      "text/plain": [
       "<Figure size 432x288 with 1 Axes>"
      ]
     },
     "metadata": {
      "needs_background": "light"
     },
     "output_type": "display_data"
    }
   ],
   "source": [
    "df[df['Gender']=='female']['Happy'].plot(kind='bar')"
   ]
  },
  {
   "cell_type": "code",
   "execution_count": 60,
   "metadata": {},
   "outputs": [
    {
     "data": {
      "text/plain": [
       "<AxesSubplot:>"
      ]
     },
     "execution_count": 60,
     "metadata": {},
     "output_type": "execute_result"
    },
    {
     "data": {
      "image/png": "[encoded data removed]",
      "text/plain": [
       "<Figure size 432x288 with 1 Axes>"
      ]
     },
     "metadata": {
      "needs_background": "light"
     },
     "output_type": "display_data"
    }
   ],
   "source": [
    "df[df['Gender']=='male']['Happy'].plot()"
   ]
  },
  {
   "cell_type": "code",
   "execution_count": 61,
   "metadata": {},
   "outputs": [
    {
     "data": {
      "text/plain": [
       "<AxesSubplot:>"
      ]
     },
     "execution_count": 61,
     "metadata": {},
     "output_type": "execute_result"
    },
    {
     "data": {
      "image/png": "[encoded data removed]",
      "text/plain": [
       "<Figure size 432x288 with 1 Axes>"
      ]
     },
     "metadata": {
      "needs_background": "light"
     },
     "output_type": "display_data"
    }
   ],
   "source": [
    "df[df['Gender']=='female']['Happy'].plot()"
   ]
  },
  {
   "cell_type": "code",
   "execution_count": 62,
   "metadata": {},
   "outputs": [
    {
     "data": {
      "text/plain": [
       "<AxesSubplot:xlabel='Happy', ylabel='count'>"
      ]
     },
     "execution_count": 62,
     "metadata": {},
     "output_type": "execute_result"
    },
    {
     "data": {
      "image/png": "[encoded data removed]",
      "text/plain": [
       "<Figure size 432x288 with 1 Axes>"
      ]
     },
     "metadata": {
      "needs_background": "light"
     },
     "output_type": "display_data"
    }
   ],
   "source": [
    "sns.countplot(data=df_dummy,x='Happy',hue='Classification')"
   ]
  },
  {
   "cell_type": "code",
   "execution_count": 63,
   "metadata": {},
   "outputs": [
    {
     "data": {
      "text/plain": [
       "2"
      ]
     },
     "execution_count": 63,
     "metadata": {},
     "output_type": "execute_result"
    }
   ],
   "source": [
    "df_dummy[df_dummy['Classification']=='freshman']['Happy'].isna().sum()"
   ]
  },
  {
   "cell_type": "code",
   "execution_count": 64,
   "metadata": {},
   "outputs": [],
   "source": [
    "df_dummy['Happy'].fillna(value=df['Happy'].mean(),inplace=True)"
   ]
  },
  {
   "cell_type": "code",
   "execution_count": 65,
   "metadata": {},
   "outputs": [
    {
     "data": {
      "text/plain": [
       "ID                         0\n",
       "Gender                     0\n",
       "Classification             0\n",
       "Height                     0\n",
       "Shoe Size                  0\n",
       "Phone Time                 0\n",
       "# of Shoes                 1\n",
       "Birth order                0\n",
       "Pets                       1\n",
       "Happy                      0\n",
       "Funny                      0\n",
       "College                    0\n",
       "Exercise                   0\n",
       "Stat Pre                   1\n",
       "Phone Type                 0\n",
       "Sleep                      1\n",
       "Social Media               1\n",
       "Impact of SocNetworking    0\n",
       "Political                  0\n",
       "Animal                     0\n",
       "Superhero                  0\n",
       "Stat Post new              0\n",
       "Bfast Calories new         0\n",
       "dtype: int64"
      ]
     },
     "execution_count": 65,
     "metadata": {},
     "output_type": "execute_result"
    }
   ],
   "source": [
    "df_dummy.isna().sum()"
   ]
  },
  {
   "cell_type": "code",
   "execution_count": 66,
   "metadata": {},
   "outputs": [
    {
     "data": {
      "text/plain": [
       "<AxesSubplot:>"
      ]
     },
     "execution_count": 66,
     "metadata": {},
     "output_type": "execute_result"
    },
    {
     "data": {
      "image/png": "[encoded data removed]",
      "text/plain": [
       "<Figure size 432x288 with 1 Axes>"
      ]
     },
     "metadata": {
      "needs_background": "light"
     },
     "output_type": "display_data"
    }
   ],
   "source": [
    "df_dummy['Happy'].plot()"
   ]
  },
  {
   "cell_type": "code",
   "execution_count": 67,
   "metadata": {},
   "outputs": [
    {
     "data": {
      "text/plain": [
       "<AxesSubplot:>"
      ]
     },
     "execution_count": 67,
     "metadata": {},
     "output_type": "execute_result"
    },
    {
     "data": {
      "image/png": "[encoded data removed]",
      "text/plain": [
       "<Figure size 432x288 with 1 Axes>"
      ]
     },
     "metadata": {
      "needs_background": "light"
     },
     "output_type": "display_data"
    }
   ],
   "source": [
    "df['Social Media'].plot()"
   ]
  },
  {
   "cell_type": "code",
   "execution_count": 68,
   "metadata": {},
   "outputs": [
    {
     "data": {
      "text/plain": [
       "<AxesSubplot:xlabel='Social Media', ylabel='count'>"
      ]
     },
     "execution_count": 68,
     "metadata": {},
     "output_type": "execute_result"
    },
    {
     "data": {
      "image/png": "[encoded data removed]",
      "text/plain": [
       "<Figure size 432x288 with 1 Axes>"
      ]
     },
     "metadata": {
      "needs_background": "light"
     },
     "output_type": "display_data"
    }
   ],
   "source": [
    "sns.countplot(data=df_dummy,x='Social Media',hue='Gender')"
   ]
  },
  {
   "cell_type": "code",
   "execution_count": 69,
   "metadata": {},
   "outputs": [
    {
     "data": {
      "text/plain": [
       "<AxesSubplot:xlabel='Social Media', ylabel='count'>"
      ]
     },
     "execution_count": 69,
     "metadata": {},
     "output_type": "execute_result"
    },
    {
     "data": {
      "image/png": "[encoded data removed]",
      "text/plain": [
       "<Figure size 432x288 with 1 Axes>"
      ]
     },
     "metadata": {
      "needs_background": "light"
     },
     "output_type": "display_data"
    }
   ],
   "source": [
    "sns.countplot(data=df_dummy,x='Social Media',hue='Classification')"
   ]
  },
  {
   "cell_type": "code",
   "execution_count": 70,
   "metadata": {},
   "outputs": [
    {
     "data": {
      "text/plain": [
       "ID                    0.082257\n",
       "Height               -0.157543\n",
       "Shoe Size             0.088741\n",
       "Phone Time           -0.033068\n",
       "# of Shoes           -0.001655\n",
       "Pets                  0.101728\n",
       "Happy                -0.128039\n",
       "Funny                -0.004543\n",
       "Exercise             -0.098282\n",
       "Stat Pre             -0.023634\n",
       "Sleep                -0.186750\n",
       "Social Media          1.000000\n",
       "Stat Post new         0.010207\n",
       "Bfast Calories new    0.115358\n",
       "Name: Social Media, dtype: float64"
      ]
     },
     "execution_count": 70,
     "metadata": {},
     "output_type": "execute_result"
    }
   ],
   "source": [
    "df_dummy.corr()['Social Media']"
   ]
  },
  {
   "cell_type": "code",
   "execution_count": 71,
   "metadata": {},
   "outputs": [],
   "source": [
    "df_dummy['Social Media'].fillna(value=df[df['Gender']=='female']['Social Media'].mean(),inplace=True)"
   ]
  },
  {
   "cell_type": "code",
   "execution_count": 72,
   "metadata": {},
   "outputs": [
    {
     "data": {
      "text/plain": [
       "ID                         0\n",
       "Gender                     0\n",
       "Classification             0\n",
       "Height                     0\n",
       "Shoe Size                  0\n",
       "Phone Time                 0\n",
       "# of Shoes                 1\n",
       "Birth order                0\n",
       "Pets                       1\n",
       "Happy                      0\n",
       "Funny                      0\n",
       "College                    0\n",
       "Exercise                   0\n",
       "Stat Pre                   1\n",
       "Phone Type                 0\n",
       "Sleep                      1\n",
       "Social Media               0\n",
       "Impact of SocNetworking    0\n",
       "Political                  0\n",
       "Animal                     0\n",
       "Superhero                  0\n",
       "Stat Post new              0\n",
       "Bfast Calories new         0\n",
       "dtype: int64"
      ]
     },
     "execution_count": 72,
     "metadata": {},
     "output_type": "execute_result"
    }
   ],
   "source": [
    "df_dummy.isna().sum()"
   ]
  },
  {
   "cell_type": "code",
   "execution_count": 73,
   "metadata": {},
   "outputs": [
    {
     "data": {
      "text/plain": [
       "<AxesSubplot:xlabel='Sleep', ylabel='count'>"
      ]
     },
     "execution_count": 73,
     "metadata": {},
     "output_type": "execute_result"
    },
    {
     "data": {
      "image/png": "[encoded data removed]",
      "text/plain": [
       "<Figure size 432x288 with 1 Axes>"
      ]
     },
     "metadata": {
      "needs_background": "light"
     },
     "output_type": "display_data"
    }
   ],
   "source": [
    "sns.countplot(data=df,x='Sleep',hue='Gender')"
   ]
  },
  {
   "cell_type": "code",
   "execution_count": 74,
   "metadata": {},
   "outputs": [
    {
     "data": {
      "text/plain": [
       "<AxesSubplot:xlabel='Sleep', ylabel='count'>"
      ]
     },
     "execution_count": 74,
     "metadata": {},
     "output_type": "execute_result"
    },
    {
     "data": {
      "image/png": "[encoded data removed]",
      "text/plain": [
       "<Figure size 432x288 with 1 Axes>"
      ]
     },
     "metadata": {
      "needs_background": "light"
     },
     "output_type": "display_data"
    }
   ],
   "source": [
    "sns.countplot(data=df_dummy,x='Sleep',hue='Classification')"
   ]
  },
  {
   "cell_type": "code",
   "execution_count": 75,
   "metadata": {},
   "outputs": [],
   "source": [
    "df_dummy['Sleep'].fillna(df[df['Classification']=='freshman']['Sleep'].mean(),inplace=True)"
   ]
  },
  {
   "cell_type": "code",
   "execution_count": 76,
   "metadata": {},
   "outputs": [
    {
     "data": {
      "text/plain": [
       "ID                         0\n",
       "Gender                     0\n",
       "Classification             0\n",
       "Height                     0\n",
       "Shoe Size                  0\n",
       "Phone Time                 0\n",
       "# of Shoes                 1\n",
       "Birth order                0\n",
       "Pets                       1\n",
       "Happy                      0\n",
       "Funny                      0\n",
       "College                    0\n",
       "Exercise                   0\n",
       "Stat Pre                   1\n",
       "Phone Type                 0\n",
       "Sleep                      0\n",
       "Social Media               0\n",
       "Impact of SocNetworking    0\n",
       "Political                  0\n",
       "Animal                     0\n",
       "Superhero                  0\n",
       "Stat Post new              0\n",
       "Bfast Calories new         0\n",
       "dtype: int64"
      ]
     },
     "execution_count": 76,
     "metadata": {},
     "output_type": "execute_result"
    }
   ],
   "source": [
    "df_dummy.isna().sum()"
   ]
  },
  {
   "cell_type": "code",
   "execution_count": 77,
   "metadata": {},
   "outputs": [
    {
     "data": {
      "text/plain": [
       "1"
      ]
     },
     "execution_count": 77,
     "metadata": {},
     "output_type": "execute_result"
    }
   ],
   "source": [
    "df_dummy['Stat Pre'].isna().sum()"
   ]
  },
  {
   "cell_type": "code",
   "execution_count": 78,
   "metadata": {},
   "outputs": [
    {
     "data": {
      "text/plain": [
       "<AxesSubplot:xlabel='Stat Pre', ylabel='count'>"
      ]
     },
     "execution_count": 78,
     "metadata": {},
     "output_type": "execute_result"
    },
    {
     "data": {
      "image/png": "[encoded data removed]",
      "text/plain": [
       "<Figure size 432x288 with 1 Axes>"
      ]
     },
     "metadata": {
      "needs_background": "light"
     },
     "output_type": "display_data"
    }
   ],
   "source": [
    "sns.countplot(data=df,x='Stat Pre',hue='Gender')"
   ]
  },
  {
   "cell_type": "code",
   "execution_count": 79,
   "metadata": {},
   "outputs": [
    {
     "data": {
      "text/plain": [
       "<AxesSubplot:xlabel='Stat Pre', ylabel='count'>"
      ]
     },
     "execution_count": 79,
     "metadata": {},
     "output_type": "execute_result"
    },
    {
     "data": {
      "image/png": "[encoded data removed]",
      "text/plain": [
       "<Figure size 432x288 with 1 Axes>"
      ]
     },
     "metadata": {
      "needs_background": "light"
     },
     "output_type": "display_data"
    }
   ],
   "source": [
    "sns.countplot(data=df,x='Stat Pre',hue='Classification')"
   ]
  },
  {
   "cell_type": "code",
   "execution_count": 80,
   "metadata": {},
   "outputs": [
    {
     "data": {
      "text/plain": [
       "1"
      ]
     },
     "execution_count": 80,
     "metadata": {},
     "output_type": "execute_result"
    }
   ],
   "source": [
    "df_dummy[df_dummy['Gender']=='female']['Stat Pre'].isna().sum()"
   ]
  },
  {
   "cell_type": "code",
   "execution_count": 81,
   "metadata": {},
   "outputs": [
    {
     "data": {
      "text/plain": [
       "1"
      ]
     },
     "execution_count": 81,
     "metadata": {},
     "output_type": "execute_result"
    }
   ],
   "source": [
    "df_dummy[df_dummy['Classification']=='freshman']['Stat Pre'].isna().sum()"
   ]
  },
  {
   "cell_type": "code",
   "execution_count": 82,
   "metadata": {},
   "outputs": [],
   "source": [
    "df_dummy['Stat Pre'].fillna(df_dummy[df_dummy['Gender']=='female']['Stat Pre'].mean(),inplace=True)"
   ]
  },
  {
   "cell_type": "code",
   "execution_count": 83,
   "metadata": {},
   "outputs": [
    {
     "data": {
      "text/plain": [
       "ID                         0\n",
       "Gender                     0\n",
       "Classification             0\n",
       "Height                     0\n",
       "Shoe Size                  0\n",
       "Phone Time                 0\n",
       "# of Shoes                 1\n",
       "Birth order                0\n",
       "Pets                       1\n",
       "Happy                      0\n",
       "Funny                      0\n",
       "College                    0\n",
       "Exercise                   0\n",
       "Stat Pre                   0\n",
       "Phone Type                 0\n",
       "Sleep                      0\n",
       "Social Media               0\n",
       "Impact of SocNetworking    0\n",
       "Political                  0\n",
       "Animal                     0\n",
       "Superhero                  0\n",
       "Stat Post new              0\n",
       "Bfast Calories new         0\n",
       "dtype: int64"
      ]
     },
     "execution_count": 83,
     "metadata": {},
     "output_type": "execute_result"
    }
   ],
   "source": [
    "df_dummy.isna().sum()"
   ]
  },
  {
   "cell_type": "code",
   "execution_count": 84,
   "metadata": {},
   "outputs": [
    {
     "data": {
      "text/plain": [
       "<AxesSubplot:xlabel='# of Shoes', ylabel='count'>"
      ]
     },
     "execution_count": 84,
     "metadata": {},
     "output_type": "execute_result"
    },
    {
     "data": {
      "image/png": "[encoded data removed]",
      "text/plain": [
       "<Figure size 432x288 with 1 Axes>"
      ]
     },
     "metadata": {
      "needs_background": "light"
     },
     "output_type": "display_data"
    }
   ],
   "source": [
    "sns.countplot(data=df_dummy,x='# of Shoes',hue='Gender')"
   ]
  },
  {
   "cell_type": "code",
   "execution_count": 85,
   "metadata": {},
   "outputs": [
    {
     "data": {
      "text/plain": [
       "<AxesSubplot:xlabel='# of Shoes', ylabel='count'>"
      ]
     },
     "execution_count": 85,
     "metadata": {},
     "output_type": "execute_result"
    },
    {
     "data": {
      "image/png": "[encoded data removed]",
      "text/plain": [
       "<Figure size 432x288 with 1 Axes>"
      ]
     },
     "metadata": {
      "needs_background": "light"
     },
     "output_type": "display_data"
    }
   ],
   "source": [
    "sns.countplot(data=df_dummy,x='# of Shoes',hue='Classification')"
   ]
  },
  {
   "cell_type": "code",
   "execution_count": 86,
   "metadata": {},
   "outputs": [
    {
     "data": {
      "text/plain": [
       "1"
      ]
     },
     "execution_count": 86,
     "metadata": {},
     "output_type": "execute_result"
    }
   ],
   "source": [
    "df[df['Classification']=='freshman']['# of Shoes'].isna().sum()"
   ]
  },
  {
   "cell_type": "code",
   "execution_count": 87,
   "metadata": {},
   "outputs": [],
   "source": [
    "df_dummy['# of Shoes'].fillna(df_dummy[df_dummy['Classification']=='freshman']['# of Shoes'].mean(),inplace=True)"
   ]
  },
  {
   "cell_type": "code",
   "execution_count": 88,
   "metadata": {},
   "outputs": [
    {
     "data": {
      "text/plain": [
       "ID                         0\n",
       "Gender                     0\n",
       "Classification             0\n",
       "Height                     0\n",
       "Shoe Size                  0\n",
       "Phone Time                 0\n",
       "# of Shoes                 0\n",
       "Birth order                0\n",
       "Pets                       1\n",
       "Happy                      0\n",
       "Funny                      0\n",
       "College                    0\n",
       "Exercise                   0\n",
       "Stat Pre                   0\n",
       "Phone Type                 0\n",
       "Sleep                      0\n",
       "Social Media               0\n",
       "Impact of SocNetworking    0\n",
       "Political                  0\n",
       "Animal                     0\n",
       "Superhero                  0\n",
       "Stat Post new              0\n",
       "Bfast Calories new         0\n",
       "dtype: int64"
      ]
     },
     "execution_count": 88,
     "metadata": {},
     "output_type": "execute_result"
    }
   ],
   "source": [
    "df_dummy.isna().sum()"
   ]
  },
  {
   "cell_type": "code",
   "execution_count": 89,
   "metadata": {},
   "outputs": [
    {
     "data": {
      "text/plain": [
       "0      5.0\n",
       "1      4.0\n",
       "2      8.0\n",
       "3     12.0\n",
       "4      4.0\n",
       "      ... \n",
       "71     7.0\n",
       "72     3.0\n",
       "73     4.0\n",
       "74     4.0\n",
       "75    12.0\n",
       "Name: Pets, Length: 76, dtype: float64"
      ]
     },
     "execution_count": 89,
     "metadata": {},
     "output_type": "execute_result"
    }
   ],
   "source": [
    "df_dummy['Pets']"
   ]
  },
  {
   "cell_type": "code",
   "execution_count": 90,
   "metadata": {},
   "outputs": [
    {
     "data": {
      "text/plain": [
       "<AxesSubplot:xlabel='Pets', ylabel='count'>"
      ]
     },
     "execution_count": 90,
     "metadata": {},
     "output_type": "execute_result"
    },
    {
     "data": {
      "image/png": "[encoded data removed]",
      "text/plain": [
       "<Figure size 432x288 with 1 Axes>"
      ]
     },
     "metadata": {
      "needs_background": "light"
     },
     "output_type": "display_data"
    }
   ],
   "source": [
    "sns.countplot(data=df,x='Pets',hue='Gender')"
   ]
  },
  {
   "cell_type": "code",
   "execution_count": 91,
   "metadata": {},
   "outputs": [],
   "source": [
    "df_dummy['Pets'].fillna(value=df_dummy[df_dummy['Gender']=='female']['Pets'].mean(),inplace=True)"
   ]
  },
  {
   "cell_type": "code",
   "execution_count": 92,
   "metadata": {},
   "outputs": [
    {
     "data": {
      "text/plain": [
       "ID                         0\n",
       "Gender                     0\n",
       "Classification             0\n",
       "Height                     0\n",
       "Shoe Size                  0\n",
       "Phone Time                 0\n",
       "# of Shoes                 0\n",
       "Birth order                0\n",
       "Pets                       0\n",
       "Happy                      0\n",
       "Funny                      0\n",
       "College                    0\n",
       "Exercise                   0\n",
       "Stat Pre                   0\n",
       "Phone Type                 0\n",
       "Sleep                      0\n",
       "Social Media               0\n",
       "Impact of SocNetworking    0\n",
       "Political                  0\n",
       "Animal                     0\n",
       "Superhero                  0\n",
       "Stat Post new              0\n",
       "Bfast Calories new         0\n",
       "dtype: int64"
      ]
     },
     "execution_count": 92,
     "metadata": {},
     "output_type": "execute_result"
    }
   ],
   "source": [
    "df_dummy.isna().sum()"
   ]
  },
  {
   "cell_type": "markdown",
   "metadata": {},
   "source": [
    "# Chi square"
   ]
  },
  {
   "cell_type": "code",
   "execution_count": 93,
   "metadata": {},
   "outputs": [],
   "source": [
    "import scipy.stats as stats"
   ]
  },
  {
   "cell_type": "code",
   "execution_count": 94,
   "metadata": {},
   "outputs": [],
   "source": [
    "import pandas as pd\n",
    "import numpy as np\n",
    "import matplotlib.pyplot as plt\n",
    "import seaborn as sns"
   ]
  },
  {
   "cell_type": "code",
   "execution_count": 95,
   "metadata": {},
   "outputs": [
    {
     "name": "stdout",
     "output_type": "stream",
     "text": [
      "College      Education  Liberal Arts  Natural Sciences  Nursing  \\\n",
      "Political                                                         \n",
      "Democrat             3             1                17        4   \n",
      "Independent          0             3                13        5   \n",
      "Republican           5             4                 9        1   \n",
      "\n",
      "College      Undergraduate Studies  \n",
      "Political                           \n",
      "Democrat                         3  \n",
      "Independent                      4  \n",
      "Republican                       4  \n"
     ]
    }
   ],
   "source": [
    "Contigency=pd.crosstab(df['Political'],df['College'])\n",
    "print(Contigency)"
   ]
  },
  {
   "cell_type": "code",
   "execution_count": 96,
   "metadata": {},
   "outputs": [],
   "source": [
    "stat, p, dof, expected = stats.chi2_contingency(Contigency.values)"
   ]
  },
  {
   "cell_type": "code",
   "execution_count": 97,
   "metadata": {},
   "outputs": [
    {
     "name": "stdout",
     "output_type": "stream",
     "text": [
      "Dependent (reject H0)\n"
     ]
    }
   ],
   "source": [
    "if p <= 0.5:\n",
    "    print('Dependent (reject H0)')\n",
    "else:\n",
    "    print('Independent (H0 holds true)')"
   ]
  },
  {
   "cell_type": "code",
   "execution_count": null,
   "metadata": {},
   "outputs": [],
   "source": []
  }
 ],
 "metadata": {
  "kernelspec": {
   "display_name": "Python 3",
   "language": "python",
   "name": "python3"
  },
  "language_info": {
   "codemirror_mode": {
    "name": "ipython",
    "version": 3
   },
   "file_extension": ".py",
   "mimetype": "text/x-python",
   "name": "python",
   "nbconvert_exporter": "python",
   "pygments_lexer": "ipython3",
   "version": "3.8.5"
  }
 },
 "nbformat": 4,
 "nbformat_minor": 4
}
